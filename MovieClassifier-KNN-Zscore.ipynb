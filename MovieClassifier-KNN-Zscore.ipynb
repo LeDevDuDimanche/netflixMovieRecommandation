{
 "cells": [
  {
   "cell_type": "code",
   "execution_count": 9,
   "metadata": {},
   "outputs": [],
   "source": [
    "import pandas as pd\n",
    "\n",
    "from surprise import KNNBasic\n",
    "from surprise import NormalPredictor\n",
    "\n",
    "from surprise import Dataset\n",
    "from surprise import Reader\n",
    "\n",
    "from surprise.model_selection import cross_validate\n",
    "from surprise.model_selection import GridSearchCV\n",
    "\n",
    "from helpers import *"
   ]
  },
  {
   "cell_type": "code",
   "execution_count": 10,
   "metadata": {
    "scrolled": true
   },
   "outputs": [
    {
     "data": {
      "text/html": [
       "<div>\n",
       "<style scoped>\n",
       "    .dataframe tbody tr th:only-of-type {\n",
       "        vertical-align: middle;\n",
       "    }\n",
       "\n",
       "    .dataframe tbody tr th {\n",
       "        vertical-align: top;\n",
       "    }\n",
       "\n",
       "    .dataframe thead th {\n",
       "        text-align: right;\n",
       "    }\n",
       "</style>\n",
       "<table border=\"1\" class=\"dataframe\">\n",
       "  <thead>\n",
       "    <tr style=\"text-align: right;\">\n",
       "      <th></th>\n",
       "      <th>user</th>\n",
       "      <th>movie</th>\n",
       "      <th>rating</th>\n",
       "    </tr>\n",
       "  </thead>\n",
       "  <tbody>\n",
       "    <tr>\n",
       "      <th>0</th>\n",
       "      <td>r44</td>\n",
       "      <td>c1</td>\n",
       "      <td>4</td>\n",
       "    </tr>\n",
       "    <tr>\n",
       "      <th>1</th>\n",
       "      <td>r61</td>\n",
       "      <td>c1</td>\n",
       "      <td>3</td>\n",
       "    </tr>\n",
       "    <tr>\n",
       "      <th>2</th>\n",
       "      <td>r67</td>\n",
       "      <td>c1</td>\n",
       "      <td>4</td>\n",
       "    </tr>\n",
       "    <tr>\n",
       "      <th>3</th>\n",
       "      <td>r72</td>\n",
       "      <td>c1</td>\n",
       "      <td>3</td>\n",
       "    </tr>\n",
       "    <tr>\n",
       "      <th>4</th>\n",
       "      <td>r86</td>\n",
       "      <td>c1</td>\n",
       "      <td>5</td>\n",
       "    </tr>\n",
       "  </tbody>\n",
       "</table>\n",
       "</div>"
      ],
      "text/plain": [
       "  user movie  rating\n",
       "0  r44    c1       4\n",
       "1  r61    c1       3\n",
       "2  r67    c1       4\n",
       "3  r72    c1       3\n",
       "4  r86    c1       5"
      ]
     },
     "execution_count": 10,
     "metadata": {},
     "output_type": "execute_result"
    }
   ],
   "source": [
    "data = load_data(\"data/data_train.csv\")\n",
    "data.head()"
   ]
  },
  {
   "cell_type": "code",
   "execution_count": 11,
   "metadata": {},
   "outputs": [],
   "source": [
    "dataset = Dataset.load_from_df(data[['user', 'movie', 'rating']], Reader(rating_scale=(1, 5)))"
   ]
  },
  {
   "cell_type": "code",
   "execution_count": 14,
   "metadata": {
    "scrolled": false
   },
   "outputs": [
    {
     "name": "stdout",
     "output_type": "stream",
     "text": [
      "Evaluating RMSE, MAE of algorithm KNNBasic on 2 split(s).\n",
      "\n",
      "                  Fold 1  Fold 2  Mean    Std     \n",
      "RMSE (testset)    1.0366  1.0370  1.0368  0.0002  \n",
      "MAE (testset)     0.8488  0.8476  0.8482  0.0006  \n",
      "Fit time          31.38   31.57   31.48   0.09    \n",
      "Test time         469.01  465.98  467.50  1.51    \n"
     ]
    },
    {
     "data": {
      "text/plain": [
       "{'test_rmse': array([1.0365626 , 1.03703508]),\n",
       " 'test_mae': array([0.84877097, 0.84757616]),\n",
       " 'fit_time': (31.383524179458618, 31.567899227142334),\n",
       " 'test_time': (469.01074481010437, 465.9814372062683)}"
      ]
     },
     "execution_count": 14,
     "metadata": {},
     "output_type": "execute_result"
    }
   ],
   "source": [
    "algo = KNNBasic(sim_options = { 'user_mode' : False })\n",
    "cross_validate(algo, dataset, measures=['RMSE', 'MAE'], cv=2, verbose=True, n_jobs=-1)"
   ]
  },
  {
   "cell_type": "code",
   "execution_count": 15,
   "metadata": {},
   "outputs": [
    {
     "name": "stdout",
     "output_type": "stream",
     "text": [
      "Evaluating RMSE, MAE of algorithm KNNBasic on 2 split(s).\n",
      "\n",
      "                  Fold 1  Fold 2  Mean    Std     \n",
      "RMSE (testset)    1.0361  1.0371  1.0366  0.0005  \n",
      "MAE (testset)     0.8483  0.8482  0.8483  0.0001  \n",
      "Fit time          28.74   29.76   29.25   0.51    \n",
      "Test time         363.09  360.64  361.86  1.23    \n"
     ]
    },
    {
     "data": {
      "text/plain": [
       "{'test_rmse': array([1.03610767, 1.03714088]),\n",
       " 'test_mae': array([0.84830733, 0.84820401]),\n",
       " 'fit_time': (28.735354900360107, 29.760510206222534),\n",
       " 'test_time': (363.08914828300476, 360.6352798938751)}"
      ]
     },
     "execution_count": 15,
     "metadata": {},
     "output_type": "execute_result"
    }
   ],
   "source": [
    "algo = KNNBasic(sim_options = { 'user_mode' : True })\n",
    "cross_validate(algo, dataset, measures=['RMSE', 'MAE'], cv=2, verbose=True, n_jobs=-1)"
   ]
  },
  {
   "cell_type": "code",
   "execution_count": 11,
   "metadata": {},
   "outputs": [],
   "source": [
    "gen_submission(r'data/submission_svd_gridsearch.csv', algo)"
   ]
  },
  {
   "cell_type": "code",
   "execution_count": 13,
   "metadata": {},
   "outputs": [
    {
     "name": "stdout",
     "output_type": "stream",
     "text": [
      "Evaluating RMSE, MAE of algorithm SlopeOne on 5 split(s).\n",
      "\n",
      "                  Fold 1  Fold 2  Fold 3  Fold 4  Fold 5  Mean    Std     \n",
      "RMSE (testset)    0.9988  1.0004  1.0004  0.9993  1.0021  1.0002  0.0011  \n",
      "MAE (testset)     0.7998  0.8016  0.8028  0.8014  0.8031  0.8017  0.0012  \n",
      "Fit time          6.89    6.76    7.57    8.03    7.49    7.35    0.47    \n",
      "Test time         30.87   35.14   37.20   35.44   34.70   34.67   2.08    \n"
     ]
    },
    {
     "data": {
      "text/plain": [
       "{'test_rmse': array([0.99883368, 1.00037476, 1.0004452 , 0.99932666, 1.00207816]),\n",
       " 'test_mae': array([0.79976723, 0.80158214, 0.80280061, 0.80137969, 0.80308443]),\n",
       " 'fit_time': (6.893857002258301,\n",
       "  6.7554309368133545,\n",
       "  7.5669920444488525,\n",
       "  8.032685995101929,\n",
       "  7.491451978683472),\n",
       " 'test_time': (30.872541904449463,\n",
       "  35.13552212715149,\n",
       "  37.19649386405945,\n",
       "  35.44131135940552,\n",
       "  34.703794956207275)}"
      ]
     },
     "execution_count": 13,
     "metadata": {},
     "output_type": "execute_result"
    }
   ],
   "source": [
    "algo2 = SlopeOne()\n",
    "cross_validate(algo2, dataset, measures=['RMSE', 'MAE'], cv=5, verbose=True)"
   ]
  },
  {
   "cell_type": "code",
   "execution_count": 26,
   "metadata": {},
   "outputs": [],
   "source": [
    "def pick_determined(a, b):\n",
    "    frac_a = abs(a - round(a))\n",
    "    frac_b = abs(b - round(b))\n",
    "    if abs(frac_a - 0.5) > abs(frac_b - 0.5):\n",
    "        return int(round(a))\n",
    "    else:\n",
    "        return int(round(b))"
   ]
  },
  {
   "cell_type": "code",
   "execution_count": 27,
   "metadata": {},
   "outputs": [],
   "source": [
    "submission2 = pd.read_csv(\"data/sample_submission.csv\")\n",
    "submission2['Prediction'] = [pick_determined(algo.predict(user, movie).est, algo2.predict(user, movie).est) for [user, movie] in submission2['Id'].str.split('_')]\n",
    "submission2.to_csv(r'data/sub_svd_slopeone_det.csv', index=False)"
   ]
  }
 ],
 "metadata": {
  "kernelspec": {
   "display_name": "Python 3",
   "language": "python",
   "name": "python3"
  },
  "language_info": {
   "codemirror_mode": {
    "name": "ipython",
    "version": 3
   },
   "file_extension": ".py",
   "mimetype": "text/x-python",
   "name": "python",
   "nbconvert_exporter": "python",
   "pygments_lexer": "ipython3",
   "version": "3.7.3"
  }
 },
 "nbformat": 4,
 "nbformat_minor": 2
}
