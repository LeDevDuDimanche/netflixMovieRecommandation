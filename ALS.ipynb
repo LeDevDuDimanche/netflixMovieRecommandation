{
 "cells": [
  {
   "cell_type": "code",
   "execution_count": 1,
   "metadata": {
    "scrolled": true
   },
   "outputs": [
    {
     "data": {
      "text/html": [
       "<div>\n",
       "<style scoped>\n",
       "    .dataframe tbody tr th:only-of-type {\n",
       "        vertical-align: middle;\n",
       "    }\n",
       "\n",
       "    .dataframe tbody tr th {\n",
       "        vertical-align: top;\n",
       "    }\n",
       "\n",
       "    .dataframe thead th {\n",
       "        text-align: right;\n",
       "    }\n",
       "</style>\n",
       "<table border=\"1\" class=\"dataframe\">\n",
       "  <thead>\n",
       "    <tr style=\"text-align: right;\">\n",
       "      <th></th>\n",
       "      <th>user</th>\n",
       "      <th>movie</th>\n",
       "      <th>rating</th>\n",
       "    </tr>\n",
       "  </thead>\n",
       "  <tbody>\n",
       "    <tr>\n",
       "      <th>0</th>\n",
       "      <td>r44</td>\n",
       "      <td>c1</td>\n",
       "      <td>4</td>\n",
       "    </tr>\n",
       "    <tr>\n",
       "      <th>1</th>\n",
       "      <td>r61</td>\n",
       "      <td>c1</td>\n",
       "      <td>3</td>\n",
       "    </tr>\n",
       "    <tr>\n",
       "      <th>2</th>\n",
       "      <td>r67</td>\n",
       "      <td>c1</td>\n",
       "      <td>4</td>\n",
       "    </tr>\n",
       "    <tr>\n",
       "      <th>3</th>\n",
       "      <td>r72</td>\n",
       "      <td>c1</td>\n",
       "      <td>3</td>\n",
       "    </tr>\n",
       "    <tr>\n",
       "      <th>4</th>\n",
       "      <td>r86</td>\n",
       "      <td>c1</td>\n",
       "      <td>5</td>\n",
       "    </tr>\n",
       "  </tbody>\n",
       "</table>\n",
       "</div>"
      ],
      "text/plain": [
       "  user movie  rating\n",
       "0  r44    c1       4\n",
       "1  r61    c1       3\n",
       "2  r67    c1       4\n",
       "3  r72    c1       3\n",
       "4  r86    c1       5"
      ]
     },
     "execution_count": 1,
     "metadata": {},
     "output_type": "execute_result"
    }
   ],
   "source": [
    "%load_ext autoreload\n",
    "%autoreload 2\n",
    "\n",
    "from helpers import *\n",
    "\n",
    "from surprise import Dataset\n",
    "from surprise import Reader\n",
    "\n",
    "from surprise.model_selection import GridSearchCV\n",
    "\n",
    "path_dataset = \"data/data_train.csv\"\n",
    "data = load_data(path_dataset)\n",
    "dataset = Dataset.load_from_df(data[['user', 'movie', 'rating']], Reader(rating_scale=(1, 5)))\n",
    "\n",
    "data.head() "
   ]
  },
  {
   "cell_type": "markdown",
   "metadata": {},
   "source": [
    "![alt text](ALS.png \"Title\")"
   ]
  },
  {
   "cell_type": "code",
   "execution_count": null,
   "metadata": {
    "scrolled": false
   },
   "outputs": [
    {
     "name": "stdout",
     "output_type": "stream",
     "text": [
      "[Parallel(n_jobs=-1)]: Using backend LokyBackend with 4 concurrent workers.\n",
      "[Parallel(n_jobs=-1)]: Done   1 tasks      | elapsed:  4.8min\n",
      "[Parallel(n_jobs=-1)]: Done   2 tasks      | elapsed:  5.7min\n",
      "[Parallel(n_jobs=-1)]: Done   3 tasks      | elapsed:  6.2min\n",
      "[Parallel(n_jobs=-1)]: Done   4 tasks      | elapsed:  7.1min\n",
      "[Parallel(n_jobs=-1)]: Done   5 tasks      | elapsed: 10.3min\n",
      "[Parallel(n_jobs=-1)]: Done   6 tasks      | elapsed: 11.6min\n",
      "[Parallel(n_jobs=-1)]: Done   7 tasks      | elapsed: 12.7min\n",
      "[Parallel(n_jobs=-1)]: Done   8 tasks      | elapsed: 13.7min\n",
      "[Parallel(n_jobs=-1)]: Done   9 tasks      | elapsed: 16.7min\n",
      "[Parallel(n_jobs=-1)]: Done  10 tasks      | elapsed: 17.8min\n",
      "[Parallel(n_jobs=-1)]: Done  11 tasks      | elapsed: 18.8min\n",
      "[Parallel(n_jobs=-1)]: Done  12 tasks      | elapsed: 19.7min\n",
      "[Parallel(n_jobs=-1)]: Done  13 tasks      | elapsed: 22.6min\n",
      "[Parallel(n_jobs=-1)]: Done  14 tasks      | elapsed: 23.7min\n",
      "[Parallel(n_jobs=-1)]: Done  15 tasks      | elapsed: 24.8min\n",
      "[Parallel(n_jobs=-1)]: Done  16 tasks      | elapsed: 25.7min\n",
      "[Parallel(n_jobs=-1)]: Done  17 tasks      | elapsed: 28.4min\n",
      "[Parallel(n_jobs=-1)]: Done  18 tasks      | elapsed: 29.5min\n",
      "[Parallel(n_jobs=-1)]: Done  19 tasks      | elapsed: 30.5min\n",
      "[Parallel(n_jobs=-1)]: Done  20 tasks      | elapsed: 31.2min\n",
      "[Parallel(n_jobs=-1)]: Done  21 tasks      | elapsed: 33.9min\n",
      "[Parallel(n_jobs=-1)]: Done  22 tasks      | elapsed: 35.0min\n",
      "[Parallel(n_jobs=-1)]: Done  23 tasks      | elapsed: 36.1min\n",
      "[Parallel(n_jobs=-1)]: Done  24 tasks      | elapsed: 36.9min\n",
      "[Parallel(n_jobs=-1)]: Done  25 tasks      | elapsed: 39.4min\n",
      "[Parallel(n_jobs=-1)]: Done  26 tasks      | elapsed: 40.5min\n",
      "[Parallel(n_jobs=-1)]: Done  27 tasks      | elapsed: 41.5min\n",
      "[Parallel(n_jobs=-1)]: Done  28 tasks      | elapsed: 42.5min\n",
      "[Parallel(n_jobs=-1)]: Done  29 tasks      | elapsed: 44.7min\n",
      "[Parallel(n_jobs=-1)]: Done  30 tasks      | elapsed: 46.0min\n",
      "[Parallel(n_jobs=-1)]: Done  31 tasks      | elapsed: 55.5min\n",
      "[Parallel(n_jobs=-1)]: Done  32 tasks      | elapsed: 56.6min\n",
      "[Parallel(n_jobs=-1)]: Done  33 tasks      | elapsed: 58.7min\n",
      "[Parallel(n_jobs=-1)]: Done  34 tasks      | elapsed: 60.2min\n"
     ]
    }
   ],
   "source": [
    "from ALS_implementation import ALS\n",
    "param_grid = {\"n_epochs\": [5, 15], \"num_features\": [5, 20], \"lambda_all\": [0.05, .1, 0.15, .2, .3, .7]}\n",
    "gs = GridSearchCV(ALS, param_grid, measures=['rmse', 'mae'], cv=5, n_jobs=-1, joblib_verbose=1000) \n",
    "gs.fit(dataset)"
   ]
  }
 ],
 "metadata": {
  "kernelspec": {
   "display_name": "Python 3",
   "language": "python",
   "name": "python3"
  },
  "language_info": {
   "codemirror_mode": {
    "name": "ipython",
    "version": 3
   },
   "file_extension": ".py",
   "mimetype": "text/x-python",
   "name": "python",
   "nbconvert_exporter": "python",
   "pygments_lexer": "ipython3",
   "version": "3.5.6"
  }
 },
 "nbformat": 4,
 "nbformat_minor": 2
}
