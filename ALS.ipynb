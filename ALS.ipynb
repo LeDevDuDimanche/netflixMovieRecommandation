{
 "cells": [
  {
   "cell_type": "code",
   "execution_count": 1,
   "metadata": {},
   "outputs": [
    {
     "data": {
      "text/html": [
       "<div>\n",
       "<style scoped>\n",
       "    .dataframe tbody tr th:only-of-type {\n",
       "        vertical-align: middle;\n",
       "    }\n",
       "\n",
       "    .dataframe tbody tr th {\n",
       "        vertical-align: top;\n",
       "    }\n",
       "\n",
       "    .dataframe thead th {\n",
       "        text-align: right;\n",
       "    }\n",
       "</style>\n",
       "<table border=\"1\" class=\"dataframe\">\n",
       "  <thead>\n",
       "    <tr style=\"text-align: right;\">\n",
       "      <th></th>\n",
       "      <th>user</th>\n",
       "      <th>movie</th>\n",
       "      <th>rating</th>\n",
       "    </tr>\n",
       "  </thead>\n",
       "  <tbody>\n",
       "    <tr>\n",
       "      <th>0</th>\n",
       "      <td>r44</td>\n",
       "      <td>c1</td>\n",
       "      <td>4</td>\n",
       "    </tr>\n",
       "    <tr>\n",
       "      <th>1</th>\n",
       "      <td>r61</td>\n",
       "      <td>c1</td>\n",
       "      <td>3</td>\n",
       "    </tr>\n",
       "    <tr>\n",
       "      <th>2</th>\n",
       "      <td>r67</td>\n",
       "      <td>c1</td>\n",
       "      <td>4</td>\n",
       "    </tr>\n",
       "    <tr>\n",
       "      <th>3</th>\n",
       "      <td>r72</td>\n",
       "      <td>c1</td>\n",
       "      <td>3</td>\n",
       "    </tr>\n",
       "    <tr>\n",
       "      <th>4</th>\n",
       "      <td>r86</td>\n",
       "      <td>c1</td>\n",
       "      <td>5</td>\n",
       "    </tr>\n",
       "  </tbody>\n",
       "</table>\n",
       "</div>"
      ],
      "text/plain": [
       "  user movie  rating\n",
       "0  r44    c1       4\n",
       "1  r61    c1       3\n",
       "2  r67    c1       4\n",
       "3  r72    c1       3\n",
       "4  r86    c1       5"
      ]
     },
     "execution_count": 1,
     "metadata": {},
     "output_type": "execute_result"
    }
   ],
   "source": [
    "%load_ext autoreload\n",
    "%autoreload 2\n",
    "\n",
    "from helpers import *\n",
    "\n",
    "from surprise import Dataset\n",
    "from surprise import Reader\n",
    "\n",
    "from surprise.model_selection import GridSearchCV\n",
    "\n",
    "path_dataset = \"data/data_train.csv\"\n",
    "data = load_data(path_dataset)\n",
    "dataset = Dataset.load_from_df(data[['user', 'movie', 'rating']], Reader(rating_scale=(1, 5)))\n",
    "\n",
    "data.head() "
   ]
  },
  {
   "cell_type": "markdown",
   "metadata": {},
   "source": [
    "![alt text](ALS.png \"Title\")"
   ]
  },
  {
   "cell_type": "code",
   "execution_count": null,
   "metadata": {
    "scrolled": false
   },
   "outputs": [
    {
     "name": "stdout",
     "output_type": "stream",
     "text": [
      "number of items in preprocess_trainset_data: 1000, number of users: 10000\n",
      "\n",
      "start the ALS algorithm...\n",
      "RMSE on training set: 1.0287715148994026.\n",
      "RMSE on training set: 0.9619197624562075.\n",
      "RMSE on training set: 0.9315929134278401.\n",
      "RMSE on training set: 0.9140482532086189.\n",
      "RMSE on training set: 0.9027842213775896.\n",
      "number of items in preprocess_trainset_data: 1000, number of users: 10000\n",
      "\n",
      "start the ALS algorithm...\n",
      "RMSE on training set: 1.0283325427298464.\n",
      "RMSE on training set: 0.9632938389984093.\n",
      "RMSE on training set: 0.9339118242913584.\n",
      "RMSE on training set: 0.9153675179310596.\n",
      "RMSE on training set: 0.9034083259712488.\n",
      "number of items in preprocess_trainset_data: 1000, number of users: 10000\n",
      "\n",
      "start the ALS algorithm...\n",
      "RMSE on training set: 1.0283861954494506.\n",
      "RMSE on training set: 0.9630651341268193.\n",
      "RMSE on training set: 0.9335321751286696.\n",
      "RMSE on training set: 0.9150986527000856.\n",
      "RMSE on training set: 0.903225017381483.\n",
      "number of items in preprocess_trainset_data: 1000, number of users: 10000\n",
      "\n",
      "start the ALS algorithm...\n",
      "RMSE on training set: 2.192533492640692.\n",
      "RMSE on training set: 1.2621998118658535.\n",
      "RMSE on training set: 1.134216344150721.\n",
      "RMSE on training set: 1.0830478484225137.\n",
      "RMSE on training set: 1.0572890360341578.\n",
      "number of items in preprocess_trainset_data: 1000, number of users: 10000\n",
      "\n",
      "start the ALS algorithm...\n",
      "RMSE on training set: 2.1902453651211973.\n",
      "RMSE on training set: 1.2621512237306933.\n",
      "RMSE on training set: 1.134160400249069.\n",
      "RMSE on training set: 1.0829818488153309.\n",
      "RMSE on training set: 1.0572132145240363.\n",
      "number of items in preprocess_trainset_data: 1000, number of users: 10000\n",
      "\n",
      "start the ALS algorithm...\n",
      "RMSE on training set: 2.1897927720789103.\n",
      "RMSE on training set: 1.2615659673935635.\n",
      "RMSE on training set: 1.1336114649042697.\n",
      "RMSE on training set: 1.0824448339898731.\n"
     ]
    }
   ],
   "source": [
    "from ALS_implementation import ALS\n",
    "param_grid = {\"n_epochs\": [5], \"num_features\": [15, 25], \"lambda_user\": [0.05, 0.15], \"lambda_item\": [0.1, 0.9]}\n",
    "gs = GridSearchCV(ALS, param_grid, measures=['rmse', 'mae'], cv=3) \n",
    "gs.fit(dataset)"
   ]
  }
 ],
 "metadata": {
  "kernelspec": {
   "display_name": "Python 3",
   "language": "python",
   "name": "python3"
  },
  "language_info": {
   "codemirror_mode": {
    "name": "ipython",
    "version": 3
   },
   "file_extension": ".py",
   "mimetype": "text/x-python",
   "name": "python",
   "nbconvert_exporter": "python",
   "pygments_lexer": "ipython3",
   "version": "3.5.6"
  }
 },
 "nbformat": 4,
 "nbformat_minor": 2
}
