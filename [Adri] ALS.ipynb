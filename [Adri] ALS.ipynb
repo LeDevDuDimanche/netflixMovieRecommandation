{
 "cells": [
  {
   "cell_type": "code",
   "execution_count": 1,
   "metadata": {
    "scrolled": true
   },
   "outputs": [
    {
     "data": {
      "text/html": [
       "<div>\n",
       "<style scoped>\n",
       "    .dataframe tbody tr th:only-of-type {\n",
       "        vertical-align: middle;\n",
       "    }\n",
       "\n",
       "    .dataframe tbody tr th {\n",
       "        vertical-align: top;\n",
       "    }\n",
       "\n",
       "    .dataframe thead th {\n",
       "        text-align: right;\n",
       "    }\n",
       "</style>\n",
       "<table border=\"1\" class=\"dataframe\">\n",
       "  <thead>\n",
       "    <tr style=\"text-align: right;\">\n",
       "      <th></th>\n",
       "      <th>user</th>\n",
       "      <th>movie</th>\n",
       "      <th>rating</th>\n",
       "    </tr>\n",
       "  </thead>\n",
       "  <tbody>\n",
       "    <tr>\n",
       "      <th>0</th>\n",
       "      <td>r44</td>\n",
       "      <td>c1</td>\n",
       "      <td>4</td>\n",
       "    </tr>\n",
       "    <tr>\n",
       "      <th>1</th>\n",
       "      <td>r61</td>\n",
       "      <td>c1</td>\n",
       "      <td>3</td>\n",
       "    </tr>\n",
       "    <tr>\n",
       "      <th>2</th>\n",
       "      <td>r67</td>\n",
       "      <td>c1</td>\n",
       "      <td>4</td>\n",
       "    </tr>\n",
       "    <tr>\n",
       "      <th>3</th>\n",
       "      <td>r72</td>\n",
       "      <td>c1</td>\n",
       "      <td>3</td>\n",
       "    </tr>\n",
       "    <tr>\n",
       "      <th>4</th>\n",
       "      <td>r86</td>\n",
       "      <td>c1</td>\n",
       "      <td>5</td>\n",
       "    </tr>\n",
       "  </tbody>\n",
       "</table>\n",
       "</div>"
      ],
      "text/plain": [
       "  user movie  rating\n",
       "0  r44    c1       4\n",
       "1  r61    c1       3\n",
       "2  r67    c1       4\n",
       "3  r72    c1       3\n",
       "4  r86    c1       5"
      ]
     },
     "execution_count": 1,
     "metadata": {},
     "output_type": "execute_result"
    }
   ],
   "source": [
    "%load_ext autoreload\n",
    "%autoreload 2\n",
    "\n",
    "from helpers import *\n",
    "\n",
    "from surprise import Dataset\n",
    "from surprise import Reader\n",
    "from ALS_implementation import ALS\n",
    "from surprise.model_selection import GridSearchCV\n",
    "\n",
    "path_dataset = \"data/data_train.csv\"\n",
    "data = load_data(path_dataset)\n",
    "dataset = Dataset.load_from_df(data[['user', 'movie', 'rating']], Reader(rating_scale=(1, 5)))\n",
    "\n",
    "data.head() "
   ]
  },
  {
   "cell_type": "markdown",
   "metadata": {},
   "source": [
    "![alt text](ALS.png \"Title\")"
   ]
  },
  {
   "cell_type": "code",
   "execution_count": 2,
   "metadata": {},
   "outputs": [
    {
     "name": "stdout",
     "output_type": "stream",
     "text": [
      "[Parallel(n_jobs=-1)]: Using backend LokyBackend with 12 concurrent workers.\n",
      "[Parallel(n_jobs=-1)]: Done   1 tasks      | elapsed:  8.9min\n",
      "[Parallel(n_jobs=-1)]: Done   2 out of  12 | elapsed:  9.4min remaining: 47.0min\n",
      "[Parallel(n_jobs=-1)]: Done   3 out of  12 | elapsed:  9.6min remaining: 28.7min\n",
      "[Parallel(n_jobs=-1)]: Done   4 out of  12 | elapsed:  9.9min remaining: 19.8min\n",
      "[Parallel(n_jobs=-1)]: Done   5 out of  12 | elapsed: 10.2min remaining: 14.3min\n",
      "[Parallel(n_jobs=-1)]: Done   6 out of  12 | elapsed: 10.5min remaining: 10.5min\n",
      "[Parallel(n_jobs=-1)]: Done   7 out of  12 | elapsed: 10.8min remaining:  7.7min\n",
      "[Parallel(n_jobs=-1)]: Done   8 out of  12 | elapsed: 11.1min remaining:  5.6min\n",
      "[Parallel(n_jobs=-1)]: Done   9 out of  12 | elapsed: 11.3min remaining:  3.8min\n",
      "[Parallel(n_jobs=-1)]: Done  10 out of  12 | elapsed: 11.6min remaining:  2.3min\n",
      "[Parallel(n_jobs=-1)]: Done  12 out of  12 | elapsed: 12.1min remaining:    0.0s\n",
      "[Parallel(n_jobs=-1)]: Done  12 out of  12 | elapsed: 12.1min finished\n",
      "1.0083887894736752\n",
      "{'n_epochs': 25, 'num_features': 8, 'lambda_all': 0.082}\n",
      "{'split0_test_rmse': array([1.00935909, 1.00900155, 1.00865584, 1.0112174 , 1.01079861,\n",
      "       1.01039334]), 'split1_test_rmse': array([1.00882114, 1.00846548, 1.00812174, 1.0114858 , 1.0110584 ,\n",
      "       1.01064425]), 'mean_test_rmse': array([1.00909011, 1.00873352, 1.00838879, 1.0113516 , 1.01092851,\n",
      "       1.0105188 ]), 'std_test_rmse': array([0.00026897, 0.00026803, 0.00026705, 0.0001342 , 0.00012989,\n",
      "       0.00012545]), 'rank_test_rmse': array([3, 2, 1, 6, 5, 4], dtype=int64), 'split0_test_mae': array([0.81370735, 0.81363714, 0.81357513, 0.81479704, 0.8146934 ,\n",
      "       0.814598  ]), 'split1_test_mae': array([0.81415792, 0.81410112, 0.81405219, 0.81597476, 0.81586672,\n",
      "       0.81576736]), 'mean_test_mae': array([0.81393263, 0.81386913, 0.81381366, 0.8153859 , 0.81528006,\n",
      "       0.81518268]), 'std_test_mae': array([0.00022528, 0.00023199, 0.00023853, 0.00058886, 0.00058666,\n",
      "       0.00058468]), 'rank_test_mae': array([3, 2, 1, 6, 5, 4], dtype=int64), 'mean_fit_time': array([521.67339289, 531.48848355, 542.01974869, 543.93636584,\n",
      "       531.98247075, 508.77987719]), 'std_fit_time': array([8.48003209, 2.45859706, 1.78228855, 0.45587468, 4.01867008,\n",
      "       2.57870698]), 'mean_test_time': array([6.52547169, 5.58353877, 4.91704988, 4.13775086, 3.92101419,\n",
      "       3.22707427]), 'std_test_time': array([0.10902143, 0.15143442, 0.49303293, 0.60250545, 0.53110826,\n",
      "       0.3533622 ]), 'params': [{'n_epochs': 25, 'num_features': 8, 'lambda_all': 0.08}, {'n_epochs': 25, 'num_features': 8, 'lambda_all': 0.081}, {'n_epochs': 25, 'num_features': 8, 'lambda_all': 0.082}, {'n_epochs': 25, 'num_features': 9, 'lambda_all': 0.08}, {'n_epochs': 25, 'num_features': 9, 'lambda_all': 0.081}, {'n_epochs': 25, 'num_features': 9, 'lambda_all': 0.082}], 'param_n_epochs': [25, 25, 25, 25, 25, 25], 'param_num_features': [8, 8, 8, 9, 9, 9], 'param_lambda_all': [0.08, 0.081, 0.082, 0.08, 0.081, 0.082]}\n"
     ]
    }
   ],
   "source": [
    "param_grid = {\"n_epochs\": [25], \"num_features\": [8,9], \"lambda_all\": [0.08,0.081,0.082]}\n",
    "gs = GridSearchCV(ALS, param_grid, measures=['rmse', 'mae'], cv=2, n_jobs=-1, joblib_verbose=1000) \n",
    "gs.fit(dataset)\n",
    "print(gs.best_score['rmse'])\n",
    "print(gs.best_params['rmse'])\n",
    "print(gs.cv_results)"
   ]
  },
  {
   "cell_type": "code",
   "execution_count": 3,
   "metadata": {
    "scrolled": false
   },
   "outputs": [
    {
     "name": "stdout",
     "output_type": "stream",
     "text": [
      "[Parallel(n_jobs=-1)]: Using backend LokyBackend with 12 concurrent workers.\n",
      "[Parallel(n_jobs=-1)]: Done   1 tasks      | elapsed: 11.3min\n",
      "[Parallel(n_jobs=-1)]: Done   2 out of   9 | elapsed: 11.5min remaining: 40.3min\n",
      "[Parallel(n_jobs=-1)]: Done   3 out of   9 | elapsed: 11.8min remaining: 23.6min\n",
      "[Parallel(n_jobs=-1)]: Done   4 out of   9 | elapsed: 12.1min remaining: 15.1min\n",
      "[Parallel(n_jobs=-1)]: Done   5 out of   9 | elapsed: 12.4min remaining:  9.9min\n",
      "[Parallel(n_jobs=-1)]: Done   6 out of   9 | elapsed: 12.6min remaining:  6.3min\n",
      "[Parallel(n_jobs=-1)]: Done   7 out of   9 | elapsed: 12.8min remaining:  3.7min\n",
      "[Parallel(n_jobs=-1)]: Done   9 out of   9 | elapsed: 13.2min remaining:    0.0s\n",
      "[Parallel(n_jobs=-1)]: Done   9 out of   9 | elapsed: 13.2min finished\n"
     ]
    }
   ],
   "source": [
    "param_grid = {\"n_epochs\": [30], \"num_features\": [8], \"lambda_all\": [0.082,0.083,0.084]}\n",
    "gs = GridSearchCV(ALS, param_grid, measures=['rmse', 'mae'], cv=3, n_jobs=-1, joblib_verbose=1000) \n",
    "gs.fit(dataset)"
   ]
  },
  {
   "cell_type": "code",
   "execution_count": 4,
   "metadata": {},
   "outputs": [
    {
     "name": "stdout",
     "output_type": "stream",
     "text": [
      "0.9934012357606444\n",
      "{'n_epochs': 30, 'num_features': 8, 'lambda_all': 0.084}\n",
      "{'split0_test_rmse': array([0.9924798 , 0.99236831, 0.99226688]), 'split1_test_rmse': array([0.99443614, 0.99432018, 0.99421389]), 'split2_test_rmse': array([0.99390923, 0.99381125, 0.99372294]), 'mean_test_rmse': array([0.99360839, 0.99349992, 0.99340124]), 'std_test_rmse': array([0.00082651, 0.0008267 , 0.00082677]), 'rank_test_rmse': array([3, 2, 1], dtype=int64), 'split0_test_mae': array([0.80239087, 0.80250685, 0.80263009]), 'split1_test_mae': array([0.80401327, 0.80412062, 0.80423438]), 'split2_test_mae': array([0.80337997, 0.80350281, 0.80363208]), 'mean_test_mae': array([0.80326137, 0.80337676, 0.80349885]), 'std_test_mae': array([0.00066763, 0.00066482, 0.00066169]), 'rank_test_mae': array([1, 2, 3], dtype=int64), 'mean_fit_time': array([660.19548448, 666.71630351, 651.88606079]), 'std_fit_time': array([1.91962782, 2.2341046 , 6.94648341]), 'mean_test_time': array([3.57522607, 2.69926286, 2.12386417]), 'std_test_time': array([0.24748213, 0.25556282, 0.05913351]), 'params': [{'n_epochs': 30, 'num_features': 8, 'lambda_all': 0.082}, {'n_epochs': 30, 'num_features': 8, 'lambda_all': 0.083}, {'n_epochs': 30, 'num_features': 8, 'lambda_all': 0.084}], 'param_n_epochs': [30, 30, 30], 'param_num_features': [8, 8, 8], 'param_lambda_all': [0.082, 0.083, 0.084]}\n"
     ]
    }
   ],
   "source": [
    "print(gs.best_score['rmse'])\n",
    "print(gs.best_params['rmse'])\n",
    "print(gs.cv_results)"
   ]
  },
  {
   "cell_type": "code",
   "execution_count": 5,
   "metadata": {},
   "outputs": [
    {
     "name": "stdout",
     "output_type": "stream",
     "text": [
      "[Parallel(n_jobs=-1)]: Using backend LokyBackend with 12 concurrent workers.\n",
      "[Parallel(n_jobs=-1)]: Done   1 tasks      | elapsed:  7.4min\n",
      "[Parallel(n_jobs=-1)]: Done   2 out of   6 | elapsed:  7.8min remaining: 15.6min\n",
      "[Parallel(n_jobs=-1)]: Done   3 out of   6 | elapsed:  7.9min remaining:  7.9min\n",
      "[Parallel(n_jobs=-1)]: Done   4 out of   6 | elapsed:  8.2min remaining:  4.1min\n",
      "[Parallel(n_jobs=-1)]: Done   6 out of   6 | elapsed:  8.6min remaining:    0.0s\n",
      "[Parallel(n_jobs=-1)]: Done   6 out of   6 | elapsed:  8.6min finished\n",
      "1.0054997967173716\n",
      "{'n_epochs': 30, 'num_features': 8, 'lambda_all': 0.086}\n",
      "{'split0_test_rmse': array([1.00707842, 1.00677173, 1.00647623]), 'split1_test_rmse': array([1.00510211, 1.00480711, 1.00452336]), 'mean_test_rmse': array([1.00609026, 1.00578942, 1.0054998 ]), 'std_test_rmse': array([0.00098815, 0.00098231, 0.00097644]), 'rank_test_rmse': array([3, 2, 1], dtype=int64), 'split0_test_mae': array([0.81255878, 0.81253084, 0.81250989]), 'split1_test_mae': array([0.81152382, 0.81150431, 0.81149239]), 'mean_test_mae': array([0.8120413 , 0.81201757, 0.81200114]), 'std_test_mae': array([0.00051748, 0.00051327, 0.00050875]), 'rank_test_mae': array([3, 2, 1], dtype=int64), 'mean_fit_time': array([432.49359477, 432.02082944, 428.0180738 ]), 'std_fit_time': array([4.30908763, 0.97889352, 0.22044849]), 'mean_test_time': array([3.65424991, 3.17295432, 2.95342612]), 'std_test_time': array([0.27304173, 0.01557708, 0.13545942]), 'params': [{'n_epochs': 30, 'num_features': 8, 'lambda_all': 0.084}, {'n_epochs': 30, 'num_features': 8, 'lambda_all': 0.085}, {'n_epochs': 30, 'num_features': 8, 'lambda_all': 0.086}], 'param_n_epochs': [30, 30, 30], 'param_num_features': [8, 8, 8], 'param_lambda_all': [0.084, 0.085, 0.086]}\n"
     ]
    }
   ],
   "source": [
    "param_grid = {\"n_epochs\": [30], \"num_features\": [8], \"lambda_all\": [0.084,0.085,0.086]}\n",
    "gs = GridSearchCV(ALS, param_grid, measures=['rmse', 'mae'], cv=3, n_jobs=-1, joblib_verbose=1000) \n",
    "gs.fit(dataset)\n",
    "print(gs.best_score['rmse'])\n",
    "print(gs.best_params['rmse'])\n",
    "print(gs.cv_results)"
   ]
  },
  {
   "cell_type": "code",
   "execution_count": 7,
   "metadata": {},
   "outputs": [
    {
     "name": "stdout",
     "output_type": "stream",
     "text": [
      "[Parallel(n_jobs=-1)]: Using backend LokyBackend with 12 concurrent workers.\n",
      "[Parallel(n_jobs=-1)]: Done   1 tasks      | elapsed: 11.4min\n",
      "[Parallel(n_jobs=-1)]: Done   2 out of   9 | elapsed: 11.7min remaining: 40.8min\n",
      "[Parallel(n_jobs=-1)]: Done   3 out of   9 | elapsed: 12.0min remaining: 24.1min\n",
      "[Parallel(n_jobs=-1)]: Done   4 out of   9 | elapsed: 12.3min remaining: 15.4min\n",
      "[Parallel(n_jobs=-1)]: Done   5 out of   9 | elapsed: 12.5min remaining: 10.0min\n",
      "[Parallel(n_jobs=-1)]: Done   6 out of   9 | elapsed: 12.7min remaining:  6.4min\n",
      "[Parallel(n_jobs=-1)]: Done   7 out of   9 | elapsed: 13.1min remaining:  3.7min\n",
      "[Parallel(n_jobs=-1)]: Done   9 out of   9 | elapsed: 13.4min remaining:    0.0s\n",
      "[Parallel(n_jobs=-1)]: Done   9 out of   9 | elapsed: 13.4min finished\n",
      "0.9931152870535876\n",
      "{'n_epochs': 30, 'num_features': 8, 'lambda_all': 0.089}\n",
      "{'split0_test_rmse': array([0.9929362 , 0.99288229, 0.99283755]), 'split1_test_rmse': array([0.99292643, 0.99285521, 0.99279377]), 'split2_test_rmse': array([0.99380802, 0.99375651, 0.99371455]), 'mean_test_rmse': array([0.99322355, 0.99316467, 0.99311529]), 'std_test_rmse': array([0.0004133 , 0.00041864, 0.00042412]), 'rank_test_rmse': array([3, 2, 1], dtype=int64), 'split0_test_mae': array([0.80368714, 0.80384037, 0.80399957]), 'split1_test_mae': array([0.80371474, 0.80385705, 0.80400606]), 'split2_test_mae': array([0.8041736 , 0.80432948, 0.80449159]), 'mean_test_mae': array([0.8038585 , 0.80400897, 0.80416574]), 'std_test_mae': array([0.0002231 , 0.00022674, 0.00023043]), 'rank_test_mae': array([1, 2, 3], dtype=int64), 'mean_fit_time': array([670.55852548, 679.83604097, 669.53479608]), 'std_fit_time': array([5.80359478, 1.77339562, 8.84067809]), 'mean_test_time': array([3.51579332, 2.57259663, 2.28994091]), 'std_test_time': array([0.30130461, 0.28875164, 0.33753409]), 'params': [{'n_epochs': 30, 'num_features': 8, 'lambda_all': 0.087}, {'n_epochs': 30, 'num_features': 8, 'lambda_all': 0.088}, {'n_epochs': 30, 'num_features': 8, 'lambda_all': 0.089}], 'param_n_epochs': [30, 30, 30], 'param_num_features': [8, 8, 8], 'param_lambda_all': [0.087, 0.088, 0.089]}\n"
     ]
    }
   ],
   "source": [
    "param_grid = {\"n_epochs\": [30], \"num_features\": [8], \"lambda_all\": [0.087,0.088,0.089]}\n",
    "gs = GridSearchCV(ALS, param_grid, measures=['rmse', 'mae'], cv=3, n_jobs=-1, joblib_verbose=1000) \n",
    "gs.fit(dataset)\n",
    "print(gs.best_score['rmse'])\n",
    "print(gs.best_params['rmse'])\n",
    "print(gs.cv_results)"
   ]
  },
  {
   "cell_type": "code",
   "execution_count": 8,
   "metadata": {},
   "outputs": [
    {
     "name": "stdout",
     "output_type": "stream",
     "text": [
      "[Parallel(n_jobs=-1)]: Using backend LokyBackend with 12 concurrent workers.\n",
      "[Parallel(n_jobs=-1)]: Done   1 tasks      | elapsed: 11.9min\n",
      "[Parallel(n_jobs=-1)]: Done   2 out of   9 | elapsed: 12.2min remaining: 42.8min\n",
      "[Parallel(n_jobs=-1)]: Done   3 out of   9 | elapsed: 12.4min remaining: 24.9min\n",
      "[Parallel(n_jobs=-1)]: Done   4 out of   9 | elapsed: 12.8min remaining: 16.0min\n",
      "[Parallel(n_jobs=-1)]: Done   5 out of   9 | elapsed: 13.0min remaining: 10.4min\n",
      "[Parallel(n_jobs=-1)]: Done   6 out of   9 | elapsed: 13.3min remaining:  6.7min\n",
      "[Parallel(n_jobs=-1)]: Done   7 out of   9 | elapsed: 13.5min remaining:  3.9min\n",
      "[Parallel(n_jobs=-1)]: Done   9 out of   9 | elapsed: 13.9min remaining:    0.0s\n",
      "[Parallel(n_jobs=-1)]: Done   9 out of   9 | elapsed: 13.9min finished\n",
      "0.9927309198002625\n",
      "{'n_epochs': 30, 'num_features': 8, 'lambda_all': 0.093}\n",
      "{'split0_test_rmse': array([0.9914656 , 0.99141051, 0.99143592]), 'split1_test_rmse': array([0.99224211, 0.99217308, 0.99218306]), 'split2_test_rmse': array([0.99466849, 0.99460917, 0.99462998]), 'mean_test_rmse': array([0.99279207, 0.99273092, 0.99274965]), 'std_test_rmse': array([0.00136418, 0.00136412, 0.00136413]), 'rank_test_rmse': array([3, 1, 2], dtype=int64), 'split0_test_mae': array([0.80330384, 0.80382762, 0.80440511]), 'split1_test_mae': array([0.80368678, 0.80420277, 0.80477014]), 'split2_test_mae': array([0.80531758, 0.80584638, 0.80642906]), 'mean_test_mae': array([0.80410273, 0.80462559, 0.80520144]), 'std_test_mae': array([0.00087314, 0.00087671, 0.00088076]), 'rank_test_mae': array([1, 2, 3], dtype=int64), 'mean_fit_time': array([700.83029755, 710.42262197, 688.42125948]), 'std_fit_time': array([3.35154664, 2.02888531, 8.81065083]), 'mean_test_time': array([3.71149929, 2.48172553, 2.1245114 ]), 'std_test_time': array([0.43669894, 0.18625212, 0.08744561]), 'params': [{'n_epochs': 30, 'num_features': 8, 'lambda_all': 0.09}, {'n_epochs': 30, 'num_features': 8, 'lambda_all': 0.093}, {'n_epochs': 30, 'num_features': 8, 'lambda_all': 0.096}], 'param_n_epochs': [30, 30, 30], 'param_num_features': [8, 8, 8], 'param_lambda_all': [0.09, 0.093, 0.096]}\n"
     ]
    }
   ],
   "source": [
    "param_grid = {\"n_epochs\": [30], \"num_features\": [8], \"lambda_all\": [0.09,0.093,0.096]}\n",
    "gs = GridSearchCV(ALS, param_grid, measures=['rmse', 'mae'], cv=3, n_jobs=-1, joblib_verbose=1000) \n",
    "gs.fit(dataset)\n",
    "print(gs.best_score['rmse'])\n",
    "print(gs.best_params['rmse'])\n",
    "print(gs.cv_results)"
   ]
  },
  {
   "cell_type": "code",
   "execution_count": null,
   "metadata": {},
   "outputs": [
    {
     "name": "stdout",
     "output_type": "stream",
     "text": [
      "[Parallel(n_jobs=-1)]: Using backend LokyBackend with 12 concurrent workers.\n",
      "[Parallel(n_jobs=-1)]: Done   1 tasks      | elapsed: 11.8min\n",
      "[Parallel(n_jobs=-1)]: Done   2 out of   9 | elapsed: 12.1min remaining: 42.5min\n",
      "[Parallel(n_jobs=-1)]: Done   3 out of   9 | elapsed: 12.3min remaining: 24.7min\n",
      "[Parallel(n_jobs=-1)]: Done   4 out of   9 | elapsed: 12.7min remaining: 15.8min\n",
      "[Parallel(n_jobs=-1)]: Done   5 out of   9 | elapsed: 12.8min remaining: 10.2min\n",
      "[Parallel(n_jobs=-1)]: Done   6 out of   9 | elapsed: 13.2min remaining:  6.6min\n",
      "[Parallel(n_jobs=-1)]: Done   7 out of   9 | elapsed: 13.4min remaining:  3.8min\n"
     ]
    }
   ],
   "source": [
    "param_grid = {\"n_epochs\": [30], \"num_features\": [8], \"lambda_all\": [0.092,0.093,0.094]}\n",
    "gs = GridSearchCV(ALS, param_grid, measures=['rmse', 'mae'], cv=3, n_jobs=-1, joblib_verbose=1000) \n",
    "gs.fit(dataset)\n",
    "print(gs.best_score['rmse'])\n",
    "print(gs.best_params['rmse'])\n",
    "print(gs.cv_results)"
   ]
  },
  {
   "cell_type": "code",
   "execution_count": 6,
   "metadata": {},
   "outputs": [
    {
     "name": "stdout",
     "output_type": "stream",
     "text": [
      "number of items in preprocess_trainset_data: 1000, number of users: 10000\n",
      "\n",
      "start the ALS algorithm...\n",
      "RMSE on training set: 1.0279557692829417.\n",
      "RMSE on training set: 1.002643700880776.\n",
      "RMSE on training set: 0.984104400950518.\n",
      "RMSE on training set: 0.9725554764695716.\n",
      "RMSE on training set: 0.9649053241359405.\n",
      "RMSE on training set: 0.9593962705374679.\n",
      "RMSE on training set: 0.9554039026823504.\n",
      "RMSE on training set: 0.952536228342509.\n",
      "RMSE on training set: 0.9504453053662352.\n",
      "RMSE on training set: 0.948866722777238.\n",
      "RMSE on training set: 0.9476306025435011.\n",
      "RMSE on training set: 0.946633145835352.\n",
      "RMSE on training set: 0.9458099253295328.\n",
      "RMSE on training set: 0.945119423907407.\n",
      "RMSE on training set: 0.9445336891663806.\n",
      "RMSE on training set: 0.9440329854033788.\n",
      "RMSE on training set: 0.9436026810899607.\n",
      "RMSE on training set: 0.9432314284306135.\n",
      "RMSE on training set: 0.9429101013482459.\n",
      "RMSE on training set: 0.9426311748098132.\n",
      "RMSE on training set: 0.9423883539770682.\n",
      "RMSE on training set: 0.9421763384654472.\n",
      "RMSE on training set: 0.9419906562109359.\n",
      "RMSE on training set: 0.9418275335052958.\n",
      "RMSE on training set: 0.9416837865957678.\n"
     ]
    }
   ],
   "source": [
    "submission = pd.read_csv(\"data/sample_submission.csv\")\n",
    "trainset = dataset.build_full_trainset()\n",
    "gsbf = gs.best_estimator['rmse'].fit(trainset)"
   ]
  },
  {
   "cell_type": "code",
   "execution_count": 7,
   "metadata": {},
   "outputs": [],
   "source": [
    "def predict(user, movie):\n",
    "    return int(round(recommenders[cluster_dict[movie]].predict(user, movie).est))"
   ]
  },
  {
   "cell_type": "code",
   "execution_count": 8,
   "metadata": {},
   "outputs": [],
   "source": [
    "submission['Prediction'] = [int(round(gsbf.predict(user, movie).est)) for [user, movie] in submission['Id'].str.split('_')]\n",
    "submission.to_csv(r'data/submission_als_adri_1.csv', index=False)"
   ]
  },
  {
   "cell_type": "code",
   "execution_count": null,
   "metadata": {},
   "outputs": [],
   "source": []
  }
 ],
 "metadata": {
  "kernelspec": {
   "display_name": "Python 3",
   "language": "python",
   "name": "python3"
  },
  "language_info": {
   "codemirror_mode": {
    "name": "ipython",
    "version": 3
   },
   "file_extension": ".py",
   "mimetype": "text/x-python",
   "name": "python",
   "nbconvert_exporter": "python",
   "pygments_lexer": "ipython3",
   "version": "3.7.3"
  }
 },
 "nbformat": 4,
 "nbformat_minor": 2
}
