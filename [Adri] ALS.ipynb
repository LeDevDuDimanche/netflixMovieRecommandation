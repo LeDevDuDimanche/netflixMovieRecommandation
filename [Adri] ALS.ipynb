{
 "cells": [
  {
   "cell_type": "code",
   "execution_count": 4,
   "metadata": {
    "scrolled": true
   },
   "outputs": [
    {
     "name": "stdout",
     "output_type": "stream",
     "text": [
      "The autoreload extension is already loaded. To reload it, use:\n",
      "  %reload_ext autoreload\n"
     ]
    },
    {
     "data": {
      "text/html": [
       "<div>\n",
       "<style scoped>\n",
       "    .dataframe tbody tr th:only-of-type {\n",
       "        vertical-align: middle;\n",
       "    }\n",
       "\n",
       "    .dataframe tbody tr th {\n",
       "        vertical-align: top;\n",
       "    }\n",
       "\n",
       "    .dataframe thead th {\n",
       "        text-align: right;\n",
       "    }\n",
       "</style>\n",
       "<table border=\"1\" class=\"dataframe\">\n",
       "  <thead>\n",
       "    <tr style=\"text-align: right;\">\n",
       "      <th></th>\n",
       "      <th>user</th>\n",
       "      <th>movie</th>\n",
       "      <th>rating</th>\n",
       "    </tr>\n",
       "  </thead>\n",
       "  <tbody>\n",
       "    <tr>\n",
       "      <th>0</th>\n",
       "      <td>r44</td>\n",
       "      <td>c1</td>\n",
       "      <td>4</td>\n",
       "    </tr>\n",
       "    <tr>\n",
       "      <th>1</th>\n",
       "      <td>r61</td>\n",
       "      <td>c1</td>\n",
       "      <td>3</td>\n",
       "    </tr>\n",
       "    <tr>\n",
       "      <th>2</th>\n",
       "      <td>r67</td>\n",
       "      <td>c1</td>\n",
       "      <td>4</td>\n",
       "    </tr>\n",
       "    <tr>\n",
       "      <th>3</th>\n",
       "      <td>r72</td>\n",
       "      <td>c1</td>\n",
       "      <td>3</td>\n",
       "    </tr>\n",
       "    <tr>\n",
       "      <th>4</th>\n",
       "      <td>r86</td>\n",
       "      <td>c1</td>\n",
       "      <td>5</td>\n",
       "    </tr>\n",
       "  </tbody>\n",
       "</table>\n",
       "</div>"
      ],
      "text/plain": [
       "  user movie  rating\n",
       "0  r44    c1       4\n",
       "1  r61    c1       3\n",
       "2  r67    c1       4\n",
       "3  r72    c1       3\n",
       "4  r86    c1       5"
      ]
     },
     "execution_count": 4,
     "metadata": {},
     "output_type": "execute_result"
    }
   ],
   "source": [
    "%load_ext autoreload\n",
    "%autoreload 2\n",
    "\n",
    "from helpers import *\n",
    "\n",
    "from surprise import Dataset\n",
    "from surprise import Reader\n",
    "from ALS_implementation import ALS\n",
    "from surprise.model_selection import GridSearchCV\n",
    "\n",
    "path_dataset = \"data/data_train.csv\"\n",
    "data = load_data(path_dataset)\n",
    "dataset = Dataset.load_from_df(data[['user', 'movie', 'rating']], Reader(rating_scale=(1, 5)))\n",
    "\n",
    "data.head() "
   ]
  },
  {
   "cell_type": "markdown",
   "metadata": {},
   "source": [
    "![alt text](ALS.png \"Title\")"
   ]
  },
  {
   "cell_type": "code",
   "execution_count": null,
   "metadata": {},
   "outputs": [
    {
     "name": "stdout",
     "output_type": "stream",
     "text": [
      "[Parallel(n_jobs=-1)]: Using backend LokyBackend with 12 concurrent workers.\n"
     ]
    },
    {
     "name": "stderr",
     "output_type": "stream",
     "text": [
      "C:\\Users\\Adrien G\\Anaconda3\\lib\\site-packages\\joblib\\externals\\loky\\process_executor.py:706: UserWarning: A worker stopped while some jobs were given to the executor. This can be caused by a too short worker timeout or by a memory leak.\n",
      "  \"timeout or by a memory leak.\", UserWarning\n"
     ]
    }
   ],
   "source": [
    "param_grid = {\"n_epochs\": [25], \"num_features\": [8,9], \"lambda_all\": [0.08,0.081,0.082]}\n",
    "gs = GridSearchCV(ALS, param_grid, measures=['rmse', 'mae'], cv=2, n_jobs=-1, joblib_verbose=1000) \n",
    "gs.fit(dataset)\n",
    "print(gs.best_score['rmse'])\n",
    "print(gs.best_params['rmse'])\n",
    "print(gs.cv_results)"
   ]
  },
  {
   "cell_type": "code",
   "execution_count": 2,
   "metadata": {
    "scrolled": false
   },
   "outputs": [
    {
     "name": "stdout",
     "output_type": "stream",
     "text": [
      "[Parallel(n_jobs=-1)]: Using backend LokyBackend with 12 concurrent workers.\n",
      "[Parallel(n_jobs=-1)]: Done   1 tasks      | elapsed: 10.7min\n",
      "[Parallel(n_jobs=-1)]: Done   2 out of  12 | elapsed: 11.3min remaining: 56.5min\n",
      "[Parallel(n_jobs=-1)]: Done   3 out of  12 | elapsed: 11.7min remaining: 35.0min\n",
      "[Parallel(n_jobs=-1)]: Done   4 out of  12 | elapsed: 11.9min remaining: 23.8min\n",
      "[Parallel(n_jobs=-1)]: Done   5 out of  12 | elapsed: 12.2min remaining: 17.0min\n",
      "[Parallel(n_jobs=-1)]: Done   6 out of  12 | elapsed: 12.5min remaining: 12.5min\n",
      "[Parallel(n_jobs=-1)]: Done   7 out of  12 | elapsed: 12.7min remaining:  9.1min\n",
      "[Parallel(n_jobs=-1)]: Done   8 out of  12 | elapsed: 13.0min remaining:  6.5min\n",
      "[Parallel(n_jobs=-1)]: Done   9 out of  12 | elapsed: 13.3min remaining:  4.4min\n",
      "[Parallel(n_jobs=-1)]: Done  10 out of  12 | elapsed: 13.4min remaining:  2.7min\n",
      "[Parallel(n_jobs=-1)]: Done  12 out of  12 | elapsed: 13.9min remaining:    0.0s\n",
      "[Parallel(n_jobs=-1)]: Done  12 out of  12 | elapsed: 13.9min finished\n"
     ]
    }
   ],
   "source": [
    "param_grid = {\"n_epochs\": [30], \"num_features\": [8,9], \"lambda_all\": [0.08,0.081,0.082]}\n",
    "gs = GridSearchCV(ALS, param_grid, measures=['rmse', 'mae'], cv=2, n_jobs=-1, joblib_verbose=1000) \n",
    "gs.fit(dataset)"
   ]
  },
  {
   "cell_type": "code",
   "execution_count": 3,
   "metadata": {},
   "outputs": [
    {
     "name": "stdout",
     "output_type": "stream",
     "text": [
      "1.0072962415827464\n",
      "{'n_epochs': 30, 'num_features': 8, 'lambda_all': 0.082}\n",
      "{'split0_test_rmse': array([1.00746965, 1.00712822, 1.00679865, 1.01038207, 1.00993078,\n",
      "       1.00949457]), 'split1_test_rmse': array([1.00848898, 1.00813552, 1.00779383, 1.00995478, 1.00953154,\n",
      "       1.00912174]), 'mean_test_rmse': array([1.00797932, 1.00763187, 1.00729624, 1.01016842, 1.00973116,\n",
      "       1.00930815]), 'std_test_rmse': array([0.00050966, 0.00050365, 0.00049759, 0.00021365, 0.00019962,\n",
      "       0.00018642]), 'rank_test_rmse': array([3, 2, 1, 6, 5, 4], dtype=int64), 'split0_test_mae': array([0.81234003, 0.81229345, 0.81225508, 0.81448789, 0.81436258,\n",
      "       0.81424671]), 'split1_test_mae': array([0.81283652, 0.8127803 , 0.81273164, 0.81353252, 0.81343342,\n",
      "       0.81334317]), 'mean_test_mae': array([0.81258828, 0.81253688, 0.81249336, 0.8140102 , 0.813898  ,\n",
      "       0.81379494]), 'std_test_mae': array([0.00024825, 0.00024343, 0.00023828, 0.00047769, 0.00046458,\n",
      "       0.00045177]), 'rank_test_mae': array([3, 2, 1, 6, 5, 4], dtype=int64), 'mean_fit_time': array([631.95049191, 654.34165621, 660.07493031, 656.56764424,\n",
      "       645.56995153, 620.24830759]), 'std_fit_time': array([12.64153934,  0.10886121,  1.97349799,  1.84808195,  5.93803024,\n",
      "        7.20912755]), 'mean_test_time': array([6.51144588, 5.54884231, 4.50176275, 3.68290544, 3.07752895,\n",
      "       2.91564238]), 'std_test_time': array([0.4556638 , 0.27791274, 0.4402231 , 0.26928878, 0.07799983,\n",
      "       0.0126344 ]), 'params': [{'n_epochs': 30, 'num_features': 8, 'lambda_all': 0.08}, {'n_epochs': 30, 'num_features': 8, 'lambda_all': 0.081}, {'n_epochs': 30, 'num_features': 8, 'lambda_all': 0.082}, {'n_epochs': 30, 'num_features': 9, 'lambda_all': 0.08}, {'n_epochs': 30, 'num_features': 9, 'lambda_all': 0.081}, {'n_epochs': 30, 'num_features': 9, 'lambda_all': 0.082}], 'param_n_epochs': [30, 30, 30, 30, 30, 30], 'param_num_features': [8, 8, 8, 9, 9, 9], 'param_lambda_all': [0.08, 0.081, 0.082, 0.08, 0.081, 0.082]}\n"
     ]
    }
   ],
   "source": [
    "print(gs.best_score['rmse'])\n",
    "print(gs.best_params['rmse'])\n",
    "print(gs.cv_results)"
   ]
  },
  {
   "cell_type": "code",
   "execution_count": 6,
   "metadata": {},
   "outputs": [
    {
     "name": "stdout",
     "output_type": "stream",
     "text": [
      "number of items in preprocess_trainset_data: 1000, number of users: 10000\n",
      "\n",
      "start the ALS algorithm...\n",
      "RMSE on training set: 1.0279557692829417.\n",
      "RMSE on training set: 1.002643700880776.\n",
      "RMSE on training set: 0.984104400950518.\n",
      "RMSE on training set: 0.9725554764695716.\n",
      "RMSE on training set: 0.9649053241359405.\n",
      "RMSE on training set: 0.9593962705374679.\n",
      "RMSE on training set: 0.9554039026823504.\n",
      "RMSE on training set: 0.952536228342509.\n",
      "RMSE on training set: 0.9504453053662352.\n",
      "RMSE on training set: 0.948866722777238.\n",
      "RMSE on training set: 0.9476306025435011.\n",
      "RMSE on training set: 0.946633145835352.\n",
      "RMSE on training set: 0.9458099253295328.\n",
      "RMSE on training set: 0.945119423907407.\n",
      "RMSE on training set: 0.9445336891663806.\n",
      "RMSE on training set: 0.9440329854033788.\n",
      "RMSE on training set: 0.9436026810899607.\n",
      "RMSE on training set: 0.9432314284306135.\n",
      "RMSE on training set: 0.9429101013482459.\n",
      "RMSE on training set: 0.9426311748098132.\n",
      "RMSE on training set: 0.9423883539770682.\n",
      "RMSE on training set: 0.9421763384654472.\n",
      "RMSE on training set: 0.9419906562109359.\n",
      "RMSE on training set: 0.9418275335052958.\n",
      "RMSE on training set: 0.9416837865957678.\n"
     ]
    }
   ],
   "source": [
    "submission = pd.read_csv(\"data/sample_submission.csv\")\n",
    "trainset = dataset.build_full_trainset()\n",
    "gsbf = gs.best_estimator['rmse'].fit(trainset)"
   ]
  },
  {
   "cell_type": "code",
   "execution_count": 7,
   "metadata": {},
   "outputs": [],
   "source": [
    "def predict(user, movie):\n",
    "    return int(round(recommenders[cluster_dict[movie]].predict(user, movie).est))"
   ]
  },
  {
   "cell_type": "code",
   "execution_count": 8,
   "metadata": {},
   "outputs": [],
   "source": [
    "submission['Prediction'] = [int(round(gsbf.predict(user, movie).est)) for [user, movie] in submission['Id'].str.split('_')]\n",
    "submission.to_csv(r'data/submission_als_adri_1.csv', index=False)"
   ]
  },
  {
   "cell_type": "code",
   "execution_count": null,
   "metadata": {},
   "outputs": [],
   "source": []
  }
 ],
 "metadata": {
  "kernelspec": {
   "display_name": "Python 3",
   "language": "python",
   "name": "python3"
  },
  "language_info": {
   "codemirror_mode": {
    "name": "ipython",
    "version": 3
   },
   "file_extension": ".py",
   "mimetype": "text/x-python",
   "name": "python",
   "nbconvert_exporter": "python",
   "pygments_lexer": "ipython3",
   "version": "3.7.3"
  }
 },
 "nbformat": 4,
 "nbformat_minor": 2
}
