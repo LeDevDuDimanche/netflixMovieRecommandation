{
 "cells": [
  {
   "cell_type": "code",
   "execution_count": 1,
   "metadata": {},
   "outputs": [],
   "source": [
    "import pandas as pd\n",
    "\n",
    "from sklearn.cluster import KMeans, MiniBatchKMeans\n",
    "import numpy as np\n",
    "\n",
    "from surprise import SVD, SlopeOne\n",
    "from surprise import NormalPredictor\n",
    "\n",
    "from surprise import Dataset\n",
    "from surprise import Reader\n",
    "\n",
    "from surprise.model_selection import cross_validate\n",
    "from surprise.model_selection import GridSearchCV\n",
    "\n",
    "from helpers import *"
   ]
  },
  {
   "cell_type": "code",
   "execution_count": 2,
   "metadata": {
    "scrolled": false
   },
   "outputs": [
    {
     "data": {
      "text/html": [
       "<div>\n",
       "<style scoped>\n",
       "    .dataframe tbody tr th:only-of-type {\n",
       "        vertical-align: middle;\n",
       "    }\n",
       "\n",
       "    .dataframe tbody tr th {\n",
       "        vertical-align: top;\n",
       "    }\n",
       "\n",
       "    .dataframe thead th {\n",
       "        text-align: right;\n",
       "    }\n",
       "</style>\n",
       "<table border=\"1\" class=\"dataframe\">\n",
       "  <thead>\n",
       "    <tr style=\"text-align: right;\">\n",
       "      <th></th>\n",
       "      <th>user</th>\n",
       "      <th>movie</th>\n",
       "      <th>rating</th>\n",
       "    </tr>\n",
       "  </thead>\n",
       "  <tbody>\n",
       "    <tr>\n",
       "      <th>0</th>\n",
       "      <td>r44</td>\n",
       "      <td>c1</td>\n",
       "      <td>4</td>\n",
       "    </tr>\n",
       "    <tr>\n",
       "      <th>1</th>\n",
       "      <td>r61</td>\n",
       "      <td>c1</td>\n",
       "      <td>3</td>\n",
       "    </tr>\n",
       "    <tr>\n",
       "      <th>2</th>\n",
       "      <td>r67</td>\n",
       "      <td>c1</td>\n",
       "      <td>4</td>\n",
       "    </tr>\n",
       "    <tr>\n",
       "      <th>3</th>\n",
       "      <td>r72</td>\n",
       "      <td>c1</td>\n",
       "      <td>3</td>\n",
       "    </tr>\n",
       "    <tr>\n",
       "      <th>4</th>\n",
       "      <td>r86</td>\n",
       "      <td>c1</td>\n",
       "      <td>5</td>\n",
       "    </tr>\n",
       "  </tbody>\n",
       "</table>\n",
       "</div>"
      ],
      "text/plain": [
       "  user movie  rating\n",
       "0  r44    c1       4\n",
       "1  r61    c1       3\n",
       "2  r67    c1       4\n",
       "3  r72    c1       3\n",
       "4  r86    c1       5"
      ]
     },
     "execution_count": 2,
     "metadata": {},
     "output_type": "execute_result"
    }
   ],
   "source": [
    "data = load_data(\"data/data_train.csv\")\n",
    "data.head()"
   ]
  },
  {
   "cell_type": "code",
   "execution_count": 3,
   "metadata": {},
   "outputs": [],
   "source": [
    "def fill_movies(users):\n",
    "    # return users.fillna(0)\n",
    "    return users.fillna(users.mean())\n",
    "mega_matrix = data.pivot(index = 'movie', columns = 'user', values = 'rating').apply(fill_movies, axis=1)"
   ]
  },
  {
   "cell_type": "code",
   "execution_count": 4,
   "metadata": {
    "scrolled": true
   },
   "outputs": [],
   "source": [
    "kmeans = KMeans(n_clusters=16, random_state=999).fit_predict(mega_matrix.values)"
   ]
  },
  {
   "cell_type": "code",
   "execution_count": 5,
   "metadata": {
    "scrolled": true
   },
   "outputs": [],
   "source": [
    "clusters = pd.DataFrame(data={ 'cluster': kmeans, 'movie': mega_matrix.index })"
   ]
  },
  {
   "cell_type": "code",
   "execution_count": 6,
   "metadata": {
    "scrolled": true
   },
   "outputs": [
    {
     "data": {
      "text/html": [
       "<div>\n",
       "<style scoped>\n",
       "    .dataframe tbody tr th:only-of-type {\n",
       "        vertical-align: middle;\n",
       "    }\n",
       "\n",
       "    .dataframe tbody tr th {\n",
       "        vertical-align: top;\n",
       "    }\n",
       "\n",
       "    .dataframe thead th {\n",
       "        text-align: right;\n",
       "    }\n",
       "</style>\n",
       "<table border=\"1\" class=\"dataframe\">\n",
       "  <thead>\n",
       "    <tr style=\"text-align: right;\">\n",
       "      <th></th>\n",
       "      <th>cluster</th>\n",
       "      <th>movie</th>\n",
       "    </tr>\n",
       "  </thead>\n",
       "  <tbody>\n",
       "    <tr>\n",
       "      <th>0</th>\n",
       "      <td>10</td>\n",
       "      <td>c1</td>\n",
       "    </tr>\n",
       "    <tr>\n",
       "      <th>1</th>\n",
       "      <td>9</td>\n",
       "      <td>c10</td>\n",
       "    </tr>\n",
       "    <tr>\n",
       "      <th>2</th>\n",
       "      <td>10</td>\n",
       "      <td>c100</td>\n",
       "    </tr>\n",
       "    <tr>\n",
       "      <th>3</th>\n",
       "      <td>9</td>\n",
       "      <td>c1000</td>\n",
       "    </tr>\n",
       "    <tr>\n",
       "      <th>4</th>\n",
       "      <td>9</td>\n",
       "      <td>c101</td>\n",
       "    </tr>\n",
       "  </tbody>\n",
       "</table>\n",
       "</div>"
      ],
      "text/plain": [
       "   cluster  movie\n",
       "0       10     c1\n",
       "1        9    c10\n",
       "2       10   c100\n",
       "3        9  c1000\n",
       "4        9   c101"
      ]
     },
     "execution_count": 6,
     "metadata": {},
     "output_type": "execute_result"
    }
   ],
   "source": [
    "clusters.head()"
   ]
  },
  {
   "cell_type": "code",
   "execution_count": 7,
   "metadata": {},
   "outputs": [],
   "source": [
    "cluster_dict = clusters.set_index('movie').to_dict()\n",
    "cluster_dict = cluster_dict['cluster']"
   ]
  },
  {
   "cell_type": "code",
   "execution_count": 8,
   "metadata": {},
   "outputs": [],
   "source": [
    "clustered = clusters.set_index('movie').join(data.set_index('movie'), how='outer', on='movie')"
   ]
  },
  {
   "cell_type": "code",
   "execution_count": 9,
   "metadata": {},
   "outputs": [],
   "source": [
    "clustered_dict = {}\n",
    "for i in range(len(clustered['cluster'].unique())):\n",
    "    clustered_dict[i] = clustered[clustered['cluster'] == i].reset_index().drop(columns=['cluster'])"
   ]
  },
  {
   "cell_type": "code",
   "execution_count": 10,
   "metadata": {},
   "outputs": [
    {
     "name": "stdout",
     "output_type": "stream",
     "text": [
      "Cluster 0\n",
      "1.128152587919428\n",
      "{'n_epochs': 30, 'lr_all': 0.003, 'reg_all': 0.4}\n",
      "Cluster 1\n",
      "0.9807127998286532\n",
      "{'n_epochs': 30, 'lr_all': 0.0005, 'reg_all': 0.1}\n",
      "Cluster 2\n",
      "0.9562004433381954\n",
      "{'n_epochs': 30, 'lr_all': 0.003, 'reg_all': 0.4}\n",
      "Cluster 3\n",
      "1.213489543944647\n",
      "{'n_epochs': 30, 'lr_all': 0.003, 'reg_all': 0.4}\n",
      "Cluster 4\n",
      "1.0743801460048175\n",
      "{'n_epochs': 10, 'lr_all': 0.0005, 'reg_all': 0.1}\n",
      "Cluster 5\n",
      "1.0105580758732045\n",
      "{'n_epochs': 10, 'lr_all': 0.0005, 'reg_all': 0.1}\n",
      "Cluster 6\n",
      "0.9182675192272086\n",
      "{'n_epochs': 10, 'lr_all': 0.0005, 'reg_all': 0.1}\n",
      "Cluster 7\n",
      "0.7614172444364006\n",
      "{'n_epochs': 30, 'lr_all': 0.003, 'reg_all': 0.1}\n",
      "Cluster 8\n",
      "1.1616109635543521\n",
      "{'n_epochs': 30, 'lr_all': 0.003, 'reg_all': 0.4}\n",
      "Cluster 9\n",
      "1.0720201410738905\n",
      "{'n_epochs': 30, 'lr_all': 0.003, 'reg_all': 0.4}\n",
      "Cluster 10\n",
      "1.0887997403085687\n",
      "{'n_epochs': 30, 'lr_all': 0.003, 'reg_all': 0.4}\n",
      "Cluster 11\n",
      "1.0217390463477116\n",
      "{'n_epochs': 30, 'lr_all': 0.003, 'reg_all': 0.4}\n",
      "Cluster 12\n",
      "1.1890740016094876\n",
      "{'n_epochs': 30, 'lr_all': 0.003, 'reg_all': 0.4}\n",
      "Cluster 13\n",
      "0.9082623450548843\n",
      "{'n_epochs': 30, 'lr_all': 0.0005, 'reg_all': 0.1}\n",
      "Cluster 14\n",
      "0.8790763123050933\n",
      "{'n_epochs': 30, 'lr_all': 0.003, 'reg_all': 0.4}\n",
      "Cluster 15\n",
      "1.2325592917303096\n",
      "{'n_epochs': 30, 'lr_all': 0.0005, 'reg_all': 0.1}\n"
     ]
    }
   ],
   "source": [
    "recommenders = {}\n",
    "for i in range(len(clustered['cluster'].unique())):\n",
    "    if (len(clustered_dict[i]) > 0):\n",
    "        dataset = Dataset.load_from_df(clustered_dict[i][['user', 'movie', 'rating']], Reader(rating_scale=(1, 5)))\n",
    "        param_grid = {'n_epochs': [10, 30], 'lr_all': [0.0005, 0.003], 'reg_all': [0.1, 0.4]}\n",
    "        gs = GridSearchCV(SVD, param_grid, measures=['rmse', 'mae'], cv=3, n_jobs=-1, refit=True)\n",
    "        gs.fit(dataset)\n",
    "        print(\"Cluster \" + str(i))\n",
    "        # best RMSE score\n",
    "        print(gs.best_score['rmse'])\n",
    "        # combination of parameters that gave the best RMSE score\n",
    "        print(gs.best_params['rmse'])\n",
    "        recommenders[i] = gs.best_estimator['rmse']\n",
    "\n",
    "\n",
    "\n",
    "        \n",
    "#         cross_validate(recommenders[i], dataset, measures=['RMSE', 'MAE'], cv=5, verbose=True)\n",
    "#         recommenders[i] = SlopeOne()\n",
    "#         cross_validate(recommenders[i], dataset, measures=['RMSE', 'MAE'], cv=5, verbose=True)"
   ]
  },
  {
   "cell_type": "code",
   "execution_count": 11,
   "metadata": {},
   "outputs": [],
   "source": [
    "submission = pd.read_csv(\"data/sample_submission.csv\")"
   ]
  },
  {
   "cell_type": "code",
   "execution_count": 12,
   "metadata": {},
   "outputs": [],
   "source": [
    "def predict(user, movie):\n",
    "    return int(round(recommenders[cluster_dict[movie]].predict(user, movie).est))"
   ]
  },
  {
   "cell_type": "code",
   "execution_count": 13,
   "metadata": {},
   "outputs": [],
   "source": [
    "submission['Prediction'] = [predict(user, movie) for [user, movie] in submission['Id'].str.split('_')]\n",
    "submission.to_csv(r'data/sub_slopeone_clustered.csv', index=False)"
   ]
  },
  {
   "cell_type": "code",
   "execution_count": null,
   "metadata": {},
   "outputs": [],
   "source": []
  }
 ],
 "metadata": {
  "kernelspec": {
   "display_name": "Python 3",
   "language": "python",
   "name": "python3"
  },
  "language_info": {
   "codemirror_mode": {
    "name": "ipython",
    "version": 3
   },
   "file_extension": ".py",
   "mimetype": "text/x-python",
   "name": "python",
   "nbconvert_exporter": "python",
   "pygments_lexer": "ipython3",
   "version": "3.7.3"
  }
 },
 "nbformat": 4,
 "nbformat_minor": 2
}
