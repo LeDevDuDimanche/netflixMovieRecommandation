{
 "cells": [
  {
   "cell_type": "code",
   "execution_count": 2,
   "metadata": {
    "scrolled": true
   },
   "outputs": [
    {
     "data": {
      "text/html": [
       "<div>\n",
       "<style scoped>\n",
       "    .dataframe tbody tr th:only-of-type {\n",
       "        vertical-align: middle;\n",
       "    }\n",
       "\n",
       "    .dataframe tbody tr th {\n",
       "        vertical-align: top;\n",
       "    }\n",
       "\n",
       "    .dataframe thead th {\n",
       "        text-align: right;\n",
       "    }\n",
       "</style>\n",
       "<table border=\"1\" class=\"dataframe\">\n",
       "  <thead>\n",
       "    <tr style=\"text-align: right;\">\n",
       "      <th></th>\n",
       "      <th>user</th>\n",
       "      <th>movie</th>\n",
       "      <th>rating</th>\n",
       "    </tr>\n",
       "  </thead>\n",
       "  <tbody>\n",
       "    <tr>\n",
       "      <th>0</th>\n",
       "      <td>r44</td>\n",
       "      <td>c1</td>\n",
       "      <td>4</td>\n",
       "    </tr>\n",
       "    <tr>\n",
       "      <th>1</th>\n",
       "      <td>r61</td>\n",
       "      <td>c1</td>\n",
       "      <td>3</td>\n",
       "    </tr>\n",
       "    <tr>\n",
       "      <th>2</th>\n",
       "      <td>r67</td>\n",
       "      <td>c1</td>\n",
       "      <td>4</td>\n",
       "    </tr>\n",
       "    <tr>\n",
       "      <th>3</th>\n",
       "      <td>r72</td>\n",
       "      <td>c1</td>\n",
       "      <td>3</td>\n",
       "    </tr>\n",
       "    <tr>\n",
       "      <th>4</th>\n",
       "      <td>r86</td>\n",
       "      <td>c1</td>\n",
       "      <td>5</td>\n",
       "    </tr>\n",
       "  </tbody>\n",
       "</table>\n",
       "</div>"
      ],
      "text/plain": [
       "  user movie  rating\n",
       "0  r44    c1       4\n",
       "1  r61    c1       3\n",
       "2  r67    c1       4\n",
       "3  r72    c1       3\n",
       "4  r86    c1       5"
      ]
     },
     "execution_count": 2,
     "metadata": {},
     "output_type": "execute_result"
    }
   ],
   "source": [
    "%load_ext autoreload\n",
    "%autoreload 2\n",
    "\n",
    "from helpers import *\n",
    "\n",
    "from surprise import Dataset\n",
    "from surprise import Reader\n",
    "\n",
    "from surprise.model_selection import GridSearchCV\n",
    "\n",
    "path_dataset = \"data/data_train.csv\"\n",
    "data = load_data(path_dataset)\n",
    "dataset = Dataset.load_from_df(data[['user', 'movie', 'rating']], Reader(rating_scale=(1, 5)))\n",
    "\n",
    "data.head() "
   ]
  },
  {
   "cell_type": "markdown",
   "metadata": {},
   "source": [
    "![alt text](ALS.png \"Title\")"
   ]
  },
  {
   "cell_type": "code",
   "execution_count": 4,
   "metadata": {
    "scrolled": false
   },
   "outputs": [
    {
     "name": "stdout",
     "output_type": "stream",
     "text": [
      "[Parallel(n_jobs=-1)]: Using backend LokyBackend with 12 concurrent workers.\n",
      "[Parallel(n_jobs=-1)]: Done   1 tasks      | elapsed:  9.4min\n",
      "[Parallel(n_jobs=-1)]: Done   2 out of   6 | elapsed:  9.5min remaining: 19.1min\n",
      "[Parallel(n_jobs=-1)]: Done   3 out of   6 | elapsed:  9.9min remaining:  9.9min\n",
      "[Parallel(n_jobs=-1)]: Done   4 out of   6 | elapsed: 10.1min remaining:  5.0min\n",
      "[Parallel(n_jobs=-1)]: Done   6 out of   6 | elapsed: 10.6min remaining:    0.0s\n",
      "[Parallel(n_jobs=-1)]: Done   6 out of   6 | elapsed: 10.6min finished\n"
     ]
    }
   ],
   "source": [
    "from ALS_implementation import ALS\n",
    "param_grid = {\"n_epochs\": [25], \"num_features\": [8], \"lambda_all\": [0.081]}\n",
    "gs = GridSearchCV(ALS, param_grid, measures=['rmse', 'mae'], cv=6, n_jobs=-1, joblib_verbose=1000) \n",
    "gs.fit(dataset)"
   ]
  },
  {
   "cell_type": "code",
   "execution_count": 5,
   "metadata": {},
   "outputs": [
    {
     "name": "stdout",
     "output_type": "stream",
     "text": [
      "0.9875117172802444\n",
      "{'n_epochs': 25, 'num_features': 8, 'lambda_all': 0.081}\n",
      "{'split0_test_rmse': array([0.98969969]), 'split1_test_rmse': array([0.98719661]), 'split2_test_rmse': array([0.98633981]), 'split3_test_rmse': array([0.98501662]), 'split4_test_rmse': array([0.98869792]), 'split5_test_rmse': array([0.98811965]), 'mean_test_rmse': array([0.98751172]), 'std_test_rmse': array([0.00154176]), 'rank_test_rmse': array([1], dtype=int64), 'split0_test_mae': array([0.80153347]), 'split1_test_mae': array([0.79900999]), 'split2_test_mae': array([0.79900274]), 'split3_test_mae': array([0.79663436]), 'split4_test_mae': array([0.80007224]), 'split5_test_mae': array([0.80038579]), 'mean_test_mae': array([0.79943976]), 'std_test_mae': array([0.00152341]), 'rank_test_mae': array([1], dtype=int64), 'mean_fit_time': array([547.56412089]), 'std_fit_time': array([2.53279099]), 'mean_test_time': array([1.15858813]), 'std_test_time': array([0.1502079]), 'params': [{'n_epochs': 25, 'num_features': 8, 'lambda_all': 0.081}], 'param_n_epochs': [25], 'param_num_features': [8], 'param_lambda_all': [0.081]}\n"
     ]
    }
   ],
   "source": [
    "print(gs.best_score['rmse'])\n",
    "print(gs.best_params['rmse'])\n",
    "print(gs.cv_results)"
   ]
  },
  {
   "cell_type": "code",
   "execution_count": 6,
   "metadata": {},
   "outputs": [
    {
     "name": "stdout",
     "output_type": "stream",
     "text": [
      "number of items in preprocess_trainset_data: 1000, number of users: 10000\n",
      "\n",
      "start the ALS algorithm...\n",
      "RMSE on training set: 1.0279557692829417.\n",
      "RMSE on training set: 1.002643700880776.\n",
      "RMSE on training set: 0.984104400950518.\n",
      "RMSE on training set: 0.9725554764695716.\n",
      "RMSE on training set: 0.9649053241359405.\n",
      "RMSE on training set: 0.9593962705374679.\n",
      "RMSE on training set: 0.9554039026823504.\n",
      "RMSE on training set: 0.952536228342509.\n",
      "RMSE on training set: 0.9504453053662352.\n",
      "RMSE on training set: 0.948866722777238.\n",
      "RMSE on training set: 0.9476306025435011.\n",
      "RMSE on training set: 0.946633145835352.\n",
      "RMSE on training set: 0.9458099253295328.\n",
      "RMSE on training set: 0.945119423907407.\n",
      "RMSE on training set: 0.9445336891663806.\n",
      "RMSE on training set: 0.9440329854033788.\n",
      "RMSE on training set: 0.9436026810899607.\n",
      "RMSE on training set: 0.9432314284306135.\n",
      "RMSE on training set: 0.9429101013482459.\n",
      "RMSE on training set: 0.9426311748098132.\n",
      "RMSE on training set: 0.9423883539770682.\n",
      "RMSE on training set: 0.9421763384654472.\n",
      "RMSE on training set: 0.9419906562109359.\n",
      "RMSE on training set: 0.9418275335052958.\n",
      "RMSE on training set: 0.9416837865957678.\n"
     ]
    }
   ],
   "source": [
    "submission = pd.read_csv(\"data/sample_submission.csv\")\n",
    "trainset = dataset.build_full_trainset()\n",
    "gsbf = gs.best_estimator['rmse'].fit(trainset)"
   ]
  },
  {
   "cell_type": "code",
   "execution_count": 7,
   "metadata": {},
   "outputs": [],
   "source": [
    "def predict(user, movie):\n",
    "    return int(round(recommenders[cluster_dict[movie]].predict(user, movie).est))"
   ]
  },
  {
   "cell_type": "code",
   "execution_count": 8,
   "metadata": {},
   "outputs": [],
   "source": [
    "submission['Prediction'] = [int(round(gsbf.predict(user, movie).est)) for [user, movie] in submission['Id'].str.split('_')]\n",
    "submission.to_csv(r'data/submission_als_adri_1.csv', index=False)"
   ]
  },
  {
   "cell_type": "code",
   "execution_count": null,
   "metadata": {},
   "outputs": [],
   "source": []
  }
 ],
 "metadata": {
  "kernelspec": {
   "display_name": "Python 3",
   "language": "python",
   "name": "python3"
  },
  "language_info": {
   "codemirror_mode": {
    "name": "ipython",
    "version": 3
   },
   "file_extension": ".py",
   "mimetype": "text/x-python",
   "name": "python",
   "nbconvert_exporter": "python",
   "pygments_lexer": "ipython3",
   "version": "3.7.3"
  }
 },
 "nbformat": 4,
 "nbformat_minor": 2
}
