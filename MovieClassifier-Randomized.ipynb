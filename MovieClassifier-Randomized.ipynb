{
 "cells": [
  {
   "cell_type": "code",
   "execution_count": 6,
   "metadata": {},
   "outputs": [],
   "source": [
    "import pandas as pd\n",
    "\n",
    "from surprise import SVD\n",
    "from surprise import NormalPredictor\n",
    "\n",
    "from surprise import Dataset\n",
    "from surprise import Reader\n",
    "\n",
    "from scipy.stats import uniform\n",
    "from surprise.model_selection import cross_validate\n",
    "from surprise.model_selection import GridSearchCV, RandomizedSearchCV\n",
    "\n",
    "from helpers import *"
   ]
  },
  {
   "cell_type": "code",
   "execution_count": 10,
   "metadata": {
    "scrolled": true
   },
   "outputs": [
    {
     "data": {
      "text/html": [
       "<div>\n",
       "<style scoped>\n",
       "    .dataframe tbody tr th:only-of-type {\n",
       "        vertical-align: middle;\n",
       "    }\n",
       "\n",
       "    .dataframe tbody tr th {\n",
       "        vertical-align: top;\n",
       "    }\n",
       "\n",
       "    .dataframe thead th {\n",
       "        text-align: right;\n",
       "    }\n",
       "</style>\n",
       "<table border=\"1\" class=\"dataframe\">\n",
       "  <thead>\n",
       "    <tr style=\"text-align: right;\">\n",
       "      <th></th>\n",
       "      <th>user</th>\n",
       "      <th>movie</th>\n",
       "      <th>rating</th>\n",
       "    </tr>\n",
       "  </thead>\n",
       "  <tbody>\n",
       "    <tr>\n",
       "      <th>0</th>\n",
       "      <td>r44</td>\n",
       "      <td>c1</td>\n",
       "      <td>4</td>\n",
       "    </tr>\n",
       "    <tr>\n",
       "      <th>1</th>\n",
       "      <td>r61</td>\n",
       "      <td>c1</td>\n",
       "      <td>3</td>\n",
       "    </tr>\n",
       "    <tr>\n",
       "      <th>2</th>\n",
       "      <td>r67</td>\n",
       "      <td>c1</td>\n",
       "      <td>4</td>\n",
       "    </tr>\n",
       "    <tr>\n",
       "      <th>3</th>\n",
       "      <td>r72</td>\n",
       "      <td>c1</td>\n",
       "      <td>3</td>\n",
       "    </tr>\n",
       "    <tr>\n",
       "      <th>4</th>\n",
       "      <td>r86</td>\n",
       "      <td>c1</td>\n",
       "      <td>5</td>\n",
       "    </tr>\n",
       "  </tbody>\n",
       "</table>\n",
       "</div>"
      ],
      "text/plain": [
       "  user movie  rating\n",
       "0  r44    c1       4\n",
       "1  r61    c1       3\n",
       "2  r67    c1       4\n",
       "3  r72    c1       3\n",
       "4  r86    c1       5"
      ]
     },
     "execution_count": 10,
     "metadata": {},
     "output_type": "execute_result"
    }
   ],
   "source": [
    "data = load_data(\"data/data_train.csv\")\n",
    "data.head()"
   ]
  },
  {
   "cell_type": "code",
   "execution_count": 11,
   "metadata": {},
   "outputs": [],
   "source": [
    "dataset = Dataset.load_from_df(data[['user', 'movie', 'rating']], Reader(rating_scale=(1, 5)))"
   ]
  },
  {
   "cell_type": "code",
   "execution_count": 18,
   "metadata": {},
   "outputs": [
    {
     "name": "stdout",
     "output_type": "stream",
     "text": [
      "[Parallel(n_jobs=2)]: Using backend LokyBackend with 2 concurrent workers.\n",
      "[Parallel(n_jobs=2)]: Done   1 tasks      | elapsed:  1.7min\n",
      "[Parallel(n_jobs=2)]: Done   2 tasks      | elapsed:  2.5min\n",
      "[Parallel(n_jobs=2)]: Done   3 tasks      | elapsed:  3.5min\n",
      "[Parallel(n_jobs=2)]: Done   4 tasks      | elapsed:  3.8min\n",
      "[Parallel(n_jobs=2)]: Done   5 tasks      | elapsed:  4.8min\n",
      "[Parallel(n_jobs=2)]: Done   6 tasks      | elapsed:  5.5min\n",
      "[Parallel(n_jobs=2)]: Done   7 tasks      | elapsed:  6.5min\n",
      "[Parallel(n_jobs=2)]: Done   8 tasks      | elapsed:  7.0min\n",
      "[Parallel(n_jobs=2)]: Done   9 tasks      | elapsed:  8.1min\n",
      "[Parallel(n_jobs=2)]: Done  10 tasks      | elapsed:  8.5min\n",
      "[Parallel(n_jobs=2)]: Done  11 tasks      | elapsed:  9.7min\n",
      "[Parallel(n_jobs=2)]: Done  12 tasks      | elapsed: 10.0min\n",
      "[Parallel(n_jobs=2)]: Done  13 tasks      | elapsed: 11.1min\n",
      "[Parallel(n_jobs=2)]: Done  14 tasks      | elapsed: 11.7min\n",
      "[Parallel(n_jobs=2)]: Done  15 tasks      | elapsed: 12.7min\n",
      "[Parallel(n_jobs=2)]: Done  16 tasks      | elapsed: 13.3min\n",
      "[Parallel(n_jobs=2)]: Done  17 tasks      | elapsed: 14.4min\n",
      "[Parallel(n_jobs=2)]: Done  18 tasks      | elapsed: 15.0min\n",
      "[Parallel(n_jobs=2)]: Done  19 tasks      | elapsed: 15.8min\n",
      "[Parallel(n_jobs=2)]: Done  20 tasks      | elapsed: 16.6min\n",
      "[Parallel(n_jobs=2)]: Done  21 tasks      | elapsed: 17.3min\n",
      "[Parallel(n_jobs=2)]: Done  22 tasks      | elapsed: 18.3min\n",
      "[Parallel(n_jobs=2)]: Done  23 tasks      | elapsed: 18.7min\n",
      "[Parallel(n_jobs=2)]: Done  24 tasks      | elapsed: 19.8min\n",
      "[Parallel(n_jobs=2)]: Done  25 tasks      | elapsed: 20.4min\n",
      "[Parallel(n_jobs=2)]: Done  26 tasks      | elapsed: 21.3min\n",
      "[Parallel(n_jobs=2)]: Done  27 tasks      | elapsed: 22.2min\n",
      "[Parallel(n_jobs=2)]: Done  28 tasks      | elapsed: 22.8min\n",
      "[Parallel(n_jobs=2)]: Done  29 tasks      | elapsed: 23.9min\n",
      "[Parallel(n_jobs=2)]: Done  30 tasks      | elapsed: 24.4min\n",
      "[Parallel(n_jobs=2)]: Done  31 tasks      | elapsed: 25.6min\n",
      "[Parallel(n_jobs=2)]: Done  32 tasks      | elapsed: 25.9min\n",
      "[Parallel(n_jobs=2)]: Done  33 tasks      | elapsed: 27.0min\n",
      "[Parallel(n_jobs=2)]: Done  34 tasks      | elapsed: 27.6min\n",
      "[Parallel(n_jobs=2)]: Done  35 tasks      | elapsed: 28.6min\n",
      "[Parallel(n_jobs=2)]: Done  36 tasks      | elapsed: 29.1min\n",
      "[Parallel(n_jobs=2)]: Done  37 tasks      | elapsed: 30.2min\n",
      "[Parallel(n_jobs=2)]: Done  38 tasks      | elapsed: 30.8min\n",
      "[Parallel(n_jobs=2)]: Done  39 tasks      | elapsed: 31.6min\n",
      "[Parallel(n_jobs=2)]: Done  40 tasks      | elapsed: 32.6min\n",
      "[Parallel(n_jobs=2)]: Done  41 tasks      | elapsed: 33.1min\n",
      "[Parallel(n_jobs=2)]: Done  42 tasks      | elapsed: 34.2min\n",
      "[Parallel(n_jobs=2)]: Done  43 tasks      | elapsed: 35.0min\n",
      "[Parallel(n_jobs=2)]: Done  44 tasks      | elapsed: 35.8min\n",
      "[Parallel(n_jobs=2)]: Done  45 tasks      | elapsed: 36.6min\n",
      "[Parallel(n_jobs=2)]: Done  46 tasks      | elapsed: 37.7min\n",
      "[Parallel(n_jobs=2)]: Done  47 tasks      | elapsed: 38.4min\n",
      "[Parallel(n_jobs=2)]: Done  48 out of  50 | elapsed: 39.4min remaining:  1.6min\n",
      "[Parallel(n_jobs=2)]: Done  50 out of  50 | elapsed: 40.5min remaining:    0.0s\n",
      "[Parallel(n_jobs=2)]: Done  50 out of  50 | elapsed: 40.5min finished\n",
      "0.9956569077992675\n",
      "{'reg_all': 0.06074916731565201, 'lr_all': 0.0075063408532453964}\n"
     ]
    }
   ],
   "source": [
    "#param_grid = {'n_epochs': [45, 60], 'lr_all': [0.007, 0.010], 'reg_all': [0.1, 0.4]}\n",
    "\n",
    "#uniform distribution in range [loc, loc + scale]\n",
    "uniform_distr = uniform(loc=0, scale=4) \n",
    "\n",
    "#Default lr_all is 0.005. Default reg_all is 0.02\n",
    "#for reg_all we search in the range [0.007, 0.07] thus (loc=0.007) + scale = 0.07 => scale = 0,063 \n",
    "#for lr_all we search in the range [0.0008, 0.008] thus scale = 0.008 - 0.0008 = 0,0072\n",
    "param_distribution={\"reg_all\": uniform(loc=0.007, scale=0.063), \"lr_all\": uniform(loc=0.0008, scale=0.0072)}\n",
    "# param_grid = {'n_epochs': [5, 10], 'lr_all': [0.002, 0.005], 'reg_all': [0.4, 0.6]}\n",
    "\n",
    "#once we found a parameter that is good instead of the uniform distribution we can use the normal\n",
    "#distribution to find an even better parameter around that parameter found by using the uniform distribution.\n",
    "gs = RandomizedSearchCV(SVD, param_distribution, measures=['rmse', 'mae'], cv=5, n_jobs=2, joblib_verbose=100)\n",
    "gs.fit(dataset)\n",
    "print(gs.best_score['rmse'])\n",
    "print(gs.best_params['rmse'])"
   ]
  },
  {
   "cell_type": "code",
   "execution_count": null,
   "metadata": {
    "scrolled": true
   },
   "outputs": [],
   "source": [
    "algo = SVD(n_factors=8, n_epochs=25, lr_all=0.081, reg_all=0.081)\n",
    "cross_validate(algo, dataset, measures=['RMSE', 'MAE'], cv=5, verbose=True)"
   ]
  },
  {
   "cell_type": "code",
   "execution_count": 15,
   "metadata": {},
   "outputs": [],
   "source": [
    "gen_submission(r'data/submission_svd_imp_3.csv', algo)"
   ]
  }
 ],
 "metadata": {
  "kernelspec": {
   "display_name": "Python 3",
   "language": "python",
   "name": "python3"
  },
  "language_info": {
   "codemirror_mode": {
    "name": "ipython",
    "version": 3
   },
   "file_extension": ".py",
   "mimetype": "text/x-python",
   "name": "python",
   "nbconvert_exporter": "python",
   "pygments_lexer": "ipython3",
   "version": "3.5.6"
  }
 },
 "nbformat": 4,
 "nbformat_minor": 2
}
