{
 "cells": [
  {
   "cell_type": "code",
   "execution_count": 264,
   "metadata": {},
   "outputs": [],
   "source": [
    "import pandas as pd\n",
    "\n",
    "from sklearn.cluster import KMeans, MiniBatchKMeans\n",
    "import numpy as np\n",
    "from scipy.stats import uniform, binom, norm\n",
    "\n",
    "from surprise import SVD, NMF\n",
    "from surprise import NormalPredictor\n",
    "\n",
    "from surprise import Dataset\n",
    "from surprise import Reader\n",
    "\n",
    "from surprise.model_selection import cross_validate\n",
    "from surprise.model_selection import GridSearchCV, RandomizedSearchCV\n",
    "\n",
    "from helpers import *"
   ]
  },
  {
   "cell_type": "code",
   "execution_count": 265,
   "metadata": {
    "scrolled": false
   },
   "outputs": [
    {
     "data": {
      "text/html": [
       "<div>\n",
       "<style scoped>\n",
       "    .dataframe tbody tr th:only-of-type {\n",
       "        vertical-align: middle;\n",
       "    }\n",
       "\n",
       "    .dataframe tbody tr th {\n",
       "        vertical-align: top;\n",
       "    }\n",
       "\n",
       "    .dataframe thead th {\n",
       "        text-align: right;\n",
       "    }\n",
       "</style>\n",
       "<table border=\"1\" class=\"dataframe\">\n",
       "  <thead>\n",
       "    <tr style=\"text-align: right;\">\n",
       "      <th></th>\n",
       "      <th>user</th>\n",
       "      <th>movie</th>\n",
       "      <th>rating</th>\n",
       "    </tr>\n",
       "  </thead>\n",
       "  <tbody>\n",
       "    <tr>\n",
       "      <th>0</th>\n",
       "      <td>r44</td>\n",
       "      <td>c1</td>\n",
       "      <td>4</td>\n",
       "    </tr>\n",
       "    <tr>\n",
       "      <th>1</th>\n",
       "      <td>r61</td>\n",
       "      <td>c1</td>\n",
       "      <td>3</td>\n",
       "    </tr>\n",
       "    <tr>\n",
       "      <th>2</th>\n",
       "      <td>r67</td>\n",
       "      <td>c1</td>\n",
       "      <td>4</td>\n",
       "    </tr>\n",
       "    <tr>\n",
       "      <th>3</th>\n",
       "      <td>r72</td>\n",
       "      <td>c1</td>\n",
       "      <td>3</td>\n",
       "    </tr>\n",
       "    <tr>\n",
       "      <th>4</th>\n",
       "      <td>r86</td>\n",
       "      <td>c1</td>\n",
       "      <td>5</td>\n",
       "    </tr>\n",
       "  </tbody>\n",
       "</table>\n",
       "</div>"
      ],
      "text/plain": [
       "  user movie  rating\n",
       "0  r44    c1       4\n",
       "1  r61    c1       3\n",
       "2  r67    c1       4\n",
       "3  r72    c1       3\n",
       "4  r86    c1       5"
      ]
     },
     "execution_count": 265,
     "metadata": {},
     "output_type": "execute_result"
    }
   ],
   "source": [
    "data = load_data(\"data/data_train.csv\")\n",
    "data.head()"
   ]
  },
  {
   "cell_type": "code",
   "execution_count": 30,
   "metadata": {},
   "outputs": [],
   "source": [
    "dataset = Dataset.load_from_df(data[['user', 'movie', 'rating']], Reader(rating_scale=(1, 5)))\n",
    "# Grid example\n",
    "# param_grid = {'n_epochs': binom(30, 0.5, 50), 'n_factors': binom(20, 0.5, 30),\n",
    "#     'lr_bu': uniform(0.03, 0.06), 'lr_bi': uniform(0.03, 0.06),\n",
    "#     'reg_bu': uniform(0.03, 0.06), 'reg_bi': uniform(0.03, 0.06),\n",
    "#     'reg_pu': uniform(0.03, 0.06), 'reg_qi': uniform(0.03, 0.06)}"
   ]
  },
  {
   "cell_type": "code",
   "execution_count": 31,
   "metadata": {},
   "outputs": [],
   "source": [
    "def search_params(params, dataset):\n",
    "    gs = RandomizedSearchCV(SVD, params, measures=['rmse', 'mae'], cv=2, n_jobs=-2, refit=True, joblib_verbose=10)\n",
    "    gs.fit(dataset)\n",
    "    print(gs.best_score['rmse'])\n",
    "    print(gs.best_params['rmse'])\n",
    "    return gs"
   ]
  },
  {
   "cell_type": "code",
   "execution_count": 260,
   "metadata": {
    "scrolled": true
   },
   "outputs": [
    {
     "name": "stderr",
     "output_type": "stream",
     "text": [
      "[Parallel(n_jobs=-2)]: Using backend LokyBackend with 7 concurrent workers.\n",
      "[Parallel(n_jobs=-2)]: Done   4 tasks      | elapsed:  4.7min\n",
      "[Parallel(n_jobs=-2)]: Done  10 out of  20 | elapsed:  8.3min remaining:  8.3min\n",
      "[Parallel(n_jobs=-2)]: Done  13 out of  20 | elapsed:  9.9min remaining:  5.3min\n",
      "[Parallel(n_jobs=-2)]: Done  16 out of  20 | elapsed: 11.6min remaining:  2.9min\n",
      "[Parallel(n_jobs=-2)]: Done  20 out of  20 | elapsed: 14.2min finished\n"
     ]
    },
    {
     "name": "stdout",
     "output_type": "stream",
     "text": [
      "1.0300950569127978\n",
      "{'lr_bi': 0.045818011810922855, 'lr_bu': 0.0694646283455431, 'n_epochs': 67, 'n_factors': 41, 'reg_bi': 0.08822016350854527, 'reg_bu': 0.07525082058155698, 'reg_pu': 0.08627810234889054, 'reg_qi': 0.08394865383692723}\n"
     ]
    }
   ],
   "source": [
    "gs2 = search_params({\n",
    "    'n_epochs': binom(30, 0.5, 50), 'n_factors': binom(20, 0.5, 30),\n",
    "    'lr_bu': uniform(0.03, 0.06), 'lr_bi': uniform(0.03, 0.06),\n",
    "    'reg_bu': uniform(0.03, 0.06), 'reg_bi': uniform(0.03, 0.06),\n",
    "    'reg_pu': uniform(0.03, 0.06), 'reg_qi': uniform(0.03, 0.06) \n",
    "}, dataset)"
   ]
  },
  {
   "cell_type": "code",
   "execution_count": 261,
   "metadata": {
    "scrolled": true
   },
   "outputs": [
    {
     "name": "stderr",
     "output_type": "stream",
     "text": [
      "[Parallel(n_jobs=-2)]: Using backend LokyBackend with 7 concurrent workers.\n",
      "[Parallel(n_jobs=-2)]: Done   4 tasks      | elapsed:  5.3min\n",
      "[Parallel(n_jobs=-2)]: Done  10 out of  20 | elapsed: 10.7min remaining: 10.7min\n",
      "[Parallel(n_jobs=-2)]: Done  13 out of  20 | elapsed: 13.2min remaining:  7.1min\n",
      "[Parallel(n_jobs=-2)]: Done  16 out of  20 | elapsed: 15.1min remaining:  3.8min\n",
      "[Parallel(n_jobs=-2)]: Done  20 out of  20 | elapsed: 16.5min finished\n"
     ]
    },
    {
     "name": "stdout",
     "output_type": "stream",
     "text": [
      "1.0224467184344626\n",
      "{'lr_bi': 0.03161983892502263, 'lr_bu': 0.036543102249994866, 'n_epochs': 98, 'n_factors': 42, 'reg_bi': 0.19056450583322448, 'reg_bu': 0.16226861343161175, 'reg_pu': 0.09671649522520975, 'reg_qi': 0.18236863153708466}\n"
     ]
    }
   ],
   "source": [
    "gs3 = search_params({\n",
    "    'n_epochs': binom(30, 0.5, 80), 'n_factors': binom(10, 0.5, 35),\n",
    "    'lr_bu': uniform(0.004, 0.2), 'lr_bi': uniform(0.03, 0.06),\n",
    "    'reg_bu': uniform(0.06, 0.12), 'reg_bi': uniform(0.09, 0.2),\n",
    "    'reg_pu': uniform(0.09, 0.12), 'reg_qi': uniform(0.07, 0.12) \n",
    "}, dataset)"
   ]
  },
  {
   "cell_type": "code",
   "execution_count": 263,
   "metadata": {},
   "outputs": [
    {
     "name": "stderr",
     "output_type": "stream",
     "text": [
      "[Parallel(n_jobs=-2)]: Using backend LokyBackend with 7 concurrent workers.\n",
      "[Parallel(n_jobs=-2)]: Done   4 tasks      | elapsed:  8.2min\n",
      "[Parallel(n_jobs=-2)]: Done  10 out of  20 | elapsed: 14.0min remaining: 14.0min\n",
      "[Parallel(n_jobs=-2)]: Done  13 out of  20 | elapsed: 16.6min remaining:  8.9min\n",
      "[Parallel(n_jobs=-2)]: Done  16 out of  20 | elapsed: 19.6min remaining:  4.9min\n",
      "[Parallel(n_jobs=-2)]: Done  20 out of  20 | elapsed: 21.5min finished\n"
     ]
    },
    {
     "name": "stdout",
     "output_type": "stream",
     "text": [
      "1.023071763098519\n",
      "{'lr_all': 0.024302752354119158, 'n_epochs': 164, 'n_factors': 40, 'reg_all': 0.23057795941521436}\n"
     ]
    }
   ],
   "source": [
    "gs4 = search_params({\n",
    "    'n_epochs': binom(30, 0.5, 150), 'n_factors': [40],\n",
    "    'lr_all': uniform(0.004, 0.5), 'reg_all': uniform(0.001, 0.4)\n",
    "}, dataset)"
   ]
  },
  {
   "cell_type": "code",
   "execution_count": 266,
   "metadata": {},
   "outputs": [
    {
     "name": "stderr",
     "output_type": "stream",
     "text": [
      "[Parallel(n_jobs=-2)]: Using backend LokyBackend with 7 concurrent workers.\n",
      "[Parallel(n_jobs=-2)]: Done   4 tasks      | elapsed: 10.2min\n",
      "[Parallel(n_jobs=-2)]: Done  11 tasks      | elapsed: 19.1min\n",
      "[Parallel(n_jobs=-2)]: Done  18 tasks      | elapsed: 28.9min\n",
      "[Parallel(n_jobs=-2)]: Done  27 tasks      | elapsed: 43.0min\n",
      "[Parallel(n_jobs=-2)]: Done  32 out of  40 | elapsed: 55.0min remaining: 13.8min\n",
      "[Parallel(n_jobs=-2)]: Done  37 out of  40 | elapsed: 64.8min remaining:  5.3min\n",
      "[Parallel(n_jobs=-2)]: Done  40 out of  40 | elapsed: 65.9min finished\n"
     ]
    },
    {
     "ename": "NameError",
     "evalue": "name 'gs' is not defined",
     "output_type": "error",
     "traceback": [
      "\u001b[0;31m---------------------------------------------------------------------------\u001b[0m",
      "\u001b[0;31mNameError\u001b[0m                                 Traceback (most recent call last)",
      "\u001b[0;32m<ipython-input-266-51d4f3626d7c>\u001b[0m in \u001b[0;36m<module>\u001b[0;34m\u001b[0m\n\u001b[1;32m      5\u001b[0m \u001b[0mgs5\u001b[0m \u001b[0;34m=\u001b[0m \u001b[0mGridSearchCV\u001b[0m\u001b[0;34m(\u001b[0m\u001b[0mSVD\u001b[0m\u001b[0;34m,\u001b[0m \u001b[0mparams\u001b[0m\u001b[0;34m,\u001b[0m \u001b[0mmeasures\u001b[0m\u001b[0;34m=\u001b[0m\u001b[0;34m[\u001b[0m\u001b[0;34m'rmse'\u001b[0m\u001b[0;34m,\u001b[0m \u001b[0;34m'mae'\u001b[0m\u001b[0;34m]\u001b[0m\u001b[0;34m,\u001b[0m \u001b[0mcv\u001b[0m\u001b[0;34m=\u001b[0m\u001b[0;36m5\u001b[0m\u001b[0;34m,\u001b[0m \u001b[0mn_jobs\u001b[0m\u001b[0;34m=\u001b[0m\u001b[0;34m-\u001b[0m\u001b[0;36m2\u001b[0m\u001b[0;34m,\u001b[0m \u001b[0mrefit\u001b[0m\u001b[0;34m=\u001b[0m\u001b[0;32mTrue\u001b[0m\u001b[0;34m,\u001b[0m \u001b[0mjoblib_verbose\u001b[0m\u001b[0;34m=\u001b[0m\u001b[0;36m10\u001b[0m\u001b[0;34m)\u001b[0m\u001b[0;34m\u001b[0m\u001b[0;34m\u001b[0m\u001b[0m\n\u001b[1;32m      6\u001b[0m \u001b[0mgs5\u001b[0m\u001b[0;34m.\u001b[0m\u001b[0mfit\u001b[0m\u001b[0;34m(\u001b[0m\u001b[0mdataset\u001b[0m\u001b[0;34m)\u001b[0m\u001b[0;34m\u001b[0m\u001b[0;34m\u001b[0m\u001b[0m\n\u001b[0;32m----> 7\u001b[0;31m \u001b[0mprint\u001b[0m\u001b[0;34m(\u001b[0m\u001b[0mgs\u001b[0m\u001b[0;34m.\u001b[0m\u001b[0mbest_score\u001b[0m\u001b[0;34m[\u001b[0m\u001b[0;34m'rmse'\u001b[0m\u001b[0;34m]\u001b[0m\u001b[0;34m)\u001b[0m\u001b[0;34m\u001b[0m\u001b[0;34m\u001b[0m\u001b[0m\n\u001b[0m\u001b[1;32m      8\u001b[0m \u001b[0mprint\u001b[0m\u001b[0;34m(\u001b[0m\u001b[0mgs\u001b[0m\u001b[0;34m.\u001b[0m\u001b[0mbest_params\u001b[0m\u001b[0;34m[\u001b[0m\u001b[0;34m'rmse'\u001b[0m\u001b[0;34m]\u001b[0m\u001b[0;34m)\u001b[0m\u001b[0;34m\u001b[0m\u001b[0;34m\u001b[0m\u001b[0m\n",
      "\u001b[0;31mNameError\u001b[0m: name 'gs' is not defined"
     ]
    }
   ],
   "source": [
    "params = {\n",
    "    'n_epochs': [160], 'n_factors': [30, 60],\n",
    "    'lr_all': [0.001, 0.007], 'reg_all': [0.1, 0.9]\n",
    "}\n",
    "gs5 = GridSearchCV(SVD, params, measures=['rmse', 'mae'], cv=5, n_jobs=-2, refit=True, joblib_verbose=10)\n",
    "gs5.fit(dataset)\n"
   ]
  },
  {
   "cell_type": "code",
   "execution_count": 268,
   "metadata": {},
   "outputs": [
    {
     "name": "stdout",
     "output_type": "stream",
     "text": [
      "0.9910543204983686\n",
      "{'n_epochs': 160, 'n_factors': 60, 'lr_all': 0.007, 'reg_all': 0.1}\n"
     ]
    }
   ],
   "source": [
    "print(gs5.best_score['rmse'])\n",
    "print(gs5.best_params['rmse'])"
   ]
  },
  {
   "cell_type": "code",
   "execution_count": 277,
   "metadata": {
    "scrolled": false
   },
   "outputs": [
    {
     "name": "stdout",
     "output_type": "stream",
     "text": [
      "Evaluating RMSE of algorithm SVD on 5 split(s).\n",
      "\n",
      "                  Fold 1  Fold 2  Fold 3  Fold 4  Fold 5  Mean    Std     \n",
      "RMSE (testset)    0.9919  0.9878  0.9905  0.9926  0.9897  0.9905  0.0017  \n",
      "Fit time          1243.06 1249.74 1253.45 1243.21 1225.20 1242.93 9.71    \n",
      "Test time         4.51    4.01    3.55    3.02    2.70    3.56    0.65    \n"
     ]
    },
    {
     "data": {
      "text/plain": [
       "{'test_rmse': array([0.99193525, 0.98776418, 0.99052403, 0.99257283, 0.98974989]),\n",
       " 'fit_time': (1243.0585539340973,\n",
       "  1249.7445859909058,\n",
       "  1253.445007801056,\n",
       "  1243.2074828147888,\n",
       "  1225.2039659023285),\n",
       " 'test_time': (4.508483171463013,\n",
       "  4.013942003250122,\n",
       "  3.546006202697754,\n",
       "  3.021120071411133,\n",
       "  2.6962649822235107)}"
      ]
     },
     "execution_count": 277,
     "metadata": {},
     "output_type": "execute_result"
    }
   ],
   "source": [
    "algo = SVD(n_epochs=160, n_factors=150, lr_all=0.007, reg_all=0.1)\n",
    "cross_validate(algo, dataset, measures=['RMSE'], cv=5, verbose=True, n_jobs=-1)"
   ]
  },
  {
   "cell_type": "code",
   "execution_count": 283,
   "metadata": {},
   "outputs": [
    {
     "data": {
      "text/plain": [
       "<surprise.prediction_algorithms.matrix_factorization.SVD at 0x1a246ff240>"
      ]
     },
     "execution_count": 283,
     "metadata": {},
     "output_type": "execute_result"
    }
   ],
   "source": [
    "trainset = dataset.build_full_trainset()\n",
    "algo.fit(trainset)"
   ]
  },
  {
   "cell_type": "code",
   "execution_count": 278,
   "metadata": {},
   "outputs": [],
   "source": [
    "submission = pd.read_csv(\"data/sample_submission.csv\")"
   ]
  },
  {
   "cell_type": "code",
   "execution_count": null,
   "metadata": {},
   "outputs": [],
   "source": [
    "def predict(user, movie):\n",
    "    return int(round(recommenders[cluster_dict[movie]].predict(user, movie).est))"
   ]
  },
  {
   "cell_type": "code",
   "execution_count": 284,
   "metadata": {
    "scrolled": true
   },
   "outputs": [],
   "source": [
    "submission['Prediction'] = [int(round(algo.predict(user, movie).est)) for [user, movie] in submission['Id'].str.split('_')]\n",
    "submission.to_csv(r'data/svd_9905.csv', index=False)"
   ]
  }
 ],
 "metadata": {
  "kernelspec": {
   "display_name": "Python 3",
   "language": "python",
   "name": "python3"
  },
  "language_info": {
   "codemirror_mode": {
    "name": "ipython",
    "version": 3
   },
   "file_extension": ".py",
   "mimetype": "text/x-python",
   "name": "python",
   "nbconvert_exporter": "python",
   "pygments_lexer": "ipython3",
   "version": "3.7.3"
  }
 },
 "nbformat": 4,
 "nbformat_minor": 2
}
