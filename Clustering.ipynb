{
 "cells": [
  {
   "cell_type": "code",
   "execution_count": 1,
   "metadata": {},
   "outputs": [],
   "source": [
    "import pandas as pd\n",
    "\n",
    "from sklearn.cluster import KMeans, MiniBatchKMeans\n",
    "import numpy as np\n",
    "\n",
    "from surprise import SVD, SlopeOne\n",
    "from surprise import NormalPredictor\n",
    "\n",
    "from surprise import Dataset\n",
    "from surprise import Reader\n",
    "\n",
    "from surprise.model_selection import cross_validate\n",
    "from surprise.model_selection import GridSearchCV\n",
    "\n",
    "from helpers import *"
   ]
  },
  {
   "cell_type": "code",
   "execution_count": 2,
   "metadata": {
    "scrolled": false
   },
   "outputs": [
    {
     "data": {
      "text/html": [
       "<div>\n",
       "<style scoped>\n",
       "    .dataframe tbody tr th:only-of-type {\n",
       "        vertical-align: middle;\n",
       "    }\n",
       "\n",
       "    .dataframe tbody tr th {\n",
       "        vertical-align: top;\n",
       "    }\n",
       "\n",
       "    .dataframe thead th {\n",
       "        text-align: right;\n",
       "    }\n",
       "</style>\n",
       "<table border=\"1\" class=\"dataframe\">\n",
       "  <thead>\n",
       "    <tr style=\"text-align: right;\">\n",
       "      <th></th>\n",
       "      <th>user</th>\n",
       "      <th>movie</th>\n",
       "      <th>rating</th>\n",
       "    </tr>\n",
       "  </thead>\n",
       "  <tbody>\n",
       "    <tr>\n",
       "      <th>0</th>\n",
       "      <td>r44</td>\n",
       "      <td>c1</td>\n",
       "      <td>4</td>\n",
       "    </tr>\n",
       "    <tr>\n",
       "      <th>1</th>\n",
       "      <td>r61</td>\n",
       "      <td>c1</td>\n",
       "      <td>3</td>\n",
       "    </tr>\n",
       "    <tr>\n",
       "      <th>2</th>\n",
       "      <td>r67</td>\n",
       "      <td>c1</td>\n",
       "      <td>4</td>\n",
       "    </tr>\n",
       "    <tr>\n",
       "      <th>3</th>\n",
       "      <td>r72</td>\n",
       "      <td>c1</td>\n",
       "      <td>3</td>\n",
       "    </tr>\n",
       "    <tr>\n",
       "      <th>4</th>\n",
       "      <td>r86</td>\n",
       "      <td>c1</td>\n",
       "      <td>5</td>\n",
       "    </tr>\n",
       "  </tbody>\n",
       "</table>\n",
       "</div>"
      ],
      "text/plain": [
       "  user movie  rating\n",
       "0  r44    c1       4\n",
       "1  r61    c1       3\n",
       "2  r67    c1       4\n",
       "3  r72    c1       3\n",
       "4  r86    c1       5"
      ]
     },
     "execution_count": 2,
     "metadata": {},
     "output_type": "execute_result"
    }
   ],
   "source": [
    "data = load_data(\"data/data_train.csv\")\n",
    "data.head()"
   ]
  },
  {
   "cell_type": "code",
   "execution_count": 3,
   "metadata": {},
   "outputs": [],
   "source": [
    "clustered1 = clusterize(data, 4)"
   ]
  },
  {
   "cell_type": "code",
   "execution_count": 4,
   "metadata": {
    "scrolled": false
   },
   "outputs": [
    {
     "name": "stdout",
     "output_type": "stream",
     "text": [
      "Evaluating RMSE, MAE of algorithm SlopeOne on 5 split(s).\n",
      "\n",
      "                  Fold 1  Fold 2  Fold 3  Fold 4  Fold 5  Mean    Std     \n",
      "RMSE (testset)    1.0442  1.0478  1.0517  1.0494  1.0467  1.0480  0.0025  \n",
      "MAE (testset)     0.8513  0.8518  0.8549  0.8534  0.8510  0.8525  0.0015  \n",
      "Fit time          0.99    0.87    0.95    0.91    0.94    0.93    0.04    \n",
      "Test time         4.83    4.75    4.83    4.91    4.92    4.85    0.06    \n",
      "Evaluating RMSE, MAE of algorithm SlopeOne on 5 split(s).\n",
      "\n",
      "                  Fold 1  Fold 2  Fold 3  Fold 4  Fold 5  Mean    Std     \n",
      "RMSE (testset)    0.8994  0.8934  0.8952  0.8985  0.8923  0.8958  0.0028  \n",
      "MAE (testset)     0.7053  0.7022  0.7030  0.7056  0.7013  0.7035  0.0017  \n",
      "Fit time          0.92    1.03    1.00    1.16    1.12    1.05    0.09    \n",
      "Test time         5.57    5.44    5.93    5.74    6.52    5.84    0.38    \n",
      "Evaluating RMSE, MAE of algorithm SlopeOne on 5 split(s).\n",
      "\n",
      "                  Fold 1  Fold 2  Fold 3  Fold 4  Fold 5  Mean    Std     \n",
      "RMSE (testset)    1.1154  1.1143  1.1161  1.1181  1.1155  1.1159  0.0013  \n",
      "MAE (testset)     0.9045  0.9050  0.9040  0.9057  0.9026  0.9044  0.0011  \n",
      "Fit time          0.39    0.46    0.61    0.43    0.43    0.46    0.08    \n",
      "Test time         1.84    1.87    1.96    1.80    1.82    1.86    0.06    \n",
      "Evaluating RMSE, MAE of algorithm SlopeOne on 5 split(s).\n",
      "\n",
      "                  Fold 1  Fold 2  Fold 3  Fold 4  Fold 5  Mean    Std     \n",
      "RMSE (testset)    1.2515  1.2307  1.2681  1.2405  1.2461  1.2474  0.0124  \n",
      "MAE (testset)     1.0057  0.9901  1.0180  0.9920  0.9936  0.9999  0.0106  \n",
      "Fit time          0.12    0.13    0.13    0.13    0.13    0.13    0.00    \n",
      "Test time         0.16    0.32    0.16    0.16    0.16    0.19    0.06    \n"
     ]
    }
   ],
   "source": [
    "recommenders = {}\n",
    "for i in range(4):\n",
    "    if (len(clustered1[i]) > 0):\n",
    "        dataset = Dataset.load_from_df(clustered1[i][['user', 'movie', 'rating']], Reader(rating_scale=(1, 5)))\n",
    "        recommenders[i] = SlopeOne()\n",
    "        cross_validate(recommenders[i], dataset, measures=['RMSE', 'MAE'], cv=5, verbose=True)"
   ]
  },
  {
   "cell_type": "markdown",
   "metadata": {},
   "source": [
    "## One cluster gives 0.8958 RMSE"
   ]
  },
  {
   "cell_type": "code",
   "execution_count": 13,
   "metadata": {},
   "outputs": [
    {
     "name": "stdout",
     "output_type": "stream",
     "text": [
      "Good cluster has 205 unique movies\n"
     ]
    }
   ],
   "source": [
    "good_sets = {}\n",
    "good_recommenders = {}\n",
    "good_sets[0] = clustered1[1]\n",
    "good_recommenders[0] = recommenders[1]\n",
    "print(\"Good cluster has \" + str(len(clustered1[1]['movie'].unique())) + \" unique movies\")"
   ]
  },
  {
   "cell_type": "code",
   "execution_count": 10,
   "metadata": {
    "scrolled": true
   },
   "outputs": [],
   "source": [
    "clustered2 = clusterize(reject_cluster(clustered1, 1), 12)"
   ]
  },
  {
   "cell_type": "code",
   "execution_count": 11,
   "metadata": {},
   "outputs": [
    {
     "name": "stdout",
     "output_type": "stream",
     "text": [
      "Evaluating RMSE, MAE of algorithm SlopeOne on 5 split(s).\n",
      "\n",
      "                  Fold 1  Fold 2  Fold 3  Fold 4  Fold 5  Mean    Std     \n",
      "RMSE (testset)    1.3855  1.3367  1.3372  1.3768  1.3857  1.3644  0.0226  \n",
      "MAE (testset)     1.1149  1.0694  1.0680  1.1022  1.1000  1.0909  0.0188  \n",
      "Fit time          0.05    0.05    0.04    0.04    0.04    0.04    0.01    \n",
      "Test time         0.01    0.01    0.01    0.01    0.01    0.01    0.00    \n",
      "Evaluating RMSE, MAE of algorithm SlopeOne on 5 split(s).\n",
      "\n",
      "                  Fold 1  Fold 2  Fold 3  Fold 4  Fold 5  Mean    Std     \n",
      "RMSE (testset)    1.1099  1.0996  1.1075  1.1046  1.1001  1.1043  0.0040  \n",
      "MAE (testset)     0.9021  0.8935  0.9003  0.8992  0.8954  0.8981  0.0032  \n",
      "Fit time          0.22    0.26    0.26    0.26    0.26    0.25    0.02    \n",
      "Test time         0.79    0.78    0.79    0.79    0.78    0.79    0.01    \n",
      "Evaluating RMSE, MAE of algorithm SlopeOne on 5 split(s).\n",
      "\n",
      "                  Fold 1  Fold 2  Fold 3  Fold 4  Fold 5  Mean    Std     \n",
      "RMSE (testset)    1.3028  1.2597  1.2908  1.2932  1.2973  1.2887  0.0151  \n",
      "MAE (testset)     1.0281  1.0007  1.0260  1.0299  1.0234  1.0216  0.0107  \n",
      "Fit time          0.08    0.08    0.08    0.08    0.08    0.08    0.00    \n",
      "Test time         0.04    0.04    0.04    0.04    0.04    0.04    0.00    \n",
      "Evaluating RMSE, MAE of algorithm SlopeOne on 5 split(s).\n",
      "\n",
      "                  Fold 1  Fold 2  Fold 3  Fold 4  Fold 5  Mean    Std     \n",
      "RMSE (testset)    1.1194  1.1260  1.1256  1.1218  1.1244  1.1234  0.0025  \n",
      "MAE (testset)     0.9059  0.9067  0.9102  0.9068  0.9091  0.9077  0.0016  \n",
      "Fit time          0.17    0.19    0.20    0.21    0.17    0.19    0.01    \n",
      "Test time         0.38    0.38    0.56    0.40    0.36    0.42    0.07    \n",
      "Evaluating RMSE, MAE of algorithm SlopeOne on 5 split(s).\n",
      "\n",
      "                  Fold 1  Fold 2  Fold 3  Fold 4  Fold 5  Mean    Std     \n",
      "RMSE (testset)    1.3019  1.3106  1.3324  1.3379  1.3087  1.3183  0.0142  \n",
      "MAE (testset)     1.0423  1.0525  1.0660  1.0697  1.0492  1.0560  0.0103  \n",
      "Fit time          0.08    0.08    0.08    0.08    0.08    0.08    0.00    \n",
      "Test time         0.05    0.15    0.05    0.05    0.05    0.07    0.04    \n",
      "Evaluating RMSE, MAE of algorithm SlopeOne on 5 split(s).\n",
      "\n",
      "                  Fold 1  Fold 2  Fold 3  Fold 4  Fold 5  Mean    Std     \n",
      "RMSE (testset)    1.1268  1.1785  1.1604  1.1069  1.1843  1.1514  0.0300  \n",
      "MAE (testset)     0.9562  1.0173  1.0026  0.9459  1.0222  0.9889  0.0317  \n",
      "Fit time          0.02    0.02    0.02    0.02    0.02    0.02    0.00    \n",
      "Test time         0.00    0.00    0.00    0.00    0.00    0.00    0.00    \n",
      "Evaluating RMSE, MAE of algorithm SlopeOne on 5 split(s).\n",
      "\n",
      "                  Fold 1  Fold 2  Fold 3  Fold 4  Fold 5  Mean    Std     \n",
      "RMSE (testset)    1.1817  1.1818  1.1802  1.1682  1.1828  1.1789  0.0055  \n",
      "MAE (testset)     0.9619  0.9597  0.9557  0.9460  0.9581  0.9563  0.0055  \n",
      "Fit time          0.16    0.16    0.20    0.29    0.20    0.20    0.04    \n",
      "Test time         0.32    0.45    0.41    0.51    0.39    0.42    0.06    \n",
      "Evaluating RMSE, MAE of algorithm SlopeOne on 5 split(s).\n",
      "\n",
      "                  Fold 1  Fold 2  Fold 3  Fold 4  Fold 5  Mean    Std     \n",
      "RMSE (testset)    1.2009  1.2138  1.2121  1.2146  1.2099  1.2102  0.0049  \n",
      "MAE (testset)     0.9620  0.9728  0.9730  0.9720  0.9690  0.9698  0.0041  \n",
      "Fit time          0.12    0.15    0.12    0.12    0.12    0.13    0.01    \n",
      "Test time         0.32    0.18    0.14    0.30    0.14    0.22    0.08    \n"
     ]
    }
   ],
   "source": [
    "recommenders = {}\n",
    "for i in range(8):\n",
    "    if (len(clustered2[i]) > 0):\n",
    "        dataset = Dataset.load_from_df(clustered2[i][['user', 'movie', 'rating']], Reader(rating_scale=(1, 5)))\n",
    "        recommenders[i] = SlopeOne()\n",
    "        cross_validate(recommenders[i], dataset, measures=['RMSE', 'MAE'], cv=5, verbose=True)"
   ]
  },
  {
   "cell_type": "markdown",
   "metadata": {},
   "source": [
    "## No other cluster combinations allowed to achive further improvement of test accuracy "
   ]
  }
 ],
 "metadata": {
  "kernelspec": {
   "display_name": "Python 3",
   "language": "python",
   "name": "python3"
  },
  "language_info": {
   "codemirror_mode": {
    "name": "ipython",
    "version": 3
   },
   "file_extension": ".py",
   "mimetype": "text/x-python",
   "name": "python",
   "nbconvert_exporter": "python",
   "pygments_lexer": "ipython3",
   "version": "3.7.3"
  }
 },
 "nbformat": 4,
 "nbformat_minor": 2
}
