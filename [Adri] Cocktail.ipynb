{
 "cells": [
  {
   "cell_type": "code",
   "execution_count": 79,
   "metadata": {},
   "outputs": [
    {
     "name": "stdout",
     "output_type": "stream",
     "text": [
      "The autoreload extension is already loaded. To reload it, use:\n",
      "  %reload_ext autoreload\n"
     ]
    }
   ],
   "source": [
    "%load_ext autoreload\n",
    "%autoreload 2\n",
    "\n",
    "import pandas as pd\n",
    "\n",
    "from sklearn.cluster import KMeans, MiniBatchKMeans\n",
    "import numpy as np\n",
    "from scipy.stats import uniform, binom, norm, randint\n",
    "\n",
    "from surprise import SVD, NMF, SlopeOne\n",
    "from surprise import NormalPredictor\n",
    "from ALS_implementation import ALS\n",
    "from GlobalMean import GlobalMean\n",
    "from UserMean import UserMean\n",
    "from ItemMean import ItemMean\n",
    "\n",
    "from surprise import Dataset\n",
    "from surprise import Reader\n",
    "\n",
    "from surprise.model_selection import cross_validate\n",
    "from surprise.model_selection import RandomizedSearchCV\n",
    "from surprise.model_selection import GridSearchCV\n",
    "\n",
    "from sklearn.linear_model import RidgeCV\n",
    "\n",
    "from helpers import *"
   ]
  },
  {
   "cell_type": "code",
   "execution_count": 8,
   "metadata": {
    "scrolled": false
   },
   "outputs": [
    {
     "data": {
      "text/html": [
       "<div>\n",
       "<style scoped>\n",
       "    .dataframe tbody tr th:only-of-type {\n",
       "        vertical-align: middle;\n",
       "    }\n",
       "\n",
       "    .dataframe tbody tr th {\n",
       "        vertical-align: top;\n",
       "    }\n",
       "\n",
       "    .dataframe thead th {\n",
       "        text-align: right;\n",
       "    }\n",
       "</style>\n",
       "<table border=\"1\" class=\"dataframe\">\n",
       "  <thead>\n",
       "    <tr style=\"text-align: right;\">\n",
       "      <th></th>\n",
       "      <th>user</th>\n",
       "      <th>movie</th>\n",
       "      <th>rating</th>\n",
       "    </tr>\n",
       "  </thead>\n",
       "  <tbody>\n",
       "    <tr>\n",
       "      <th>0</th>\n",
       "      <td>r44</td>\n",
       "      <td>c1</td>\n",
       "      <td>4</td>\n",
       "    </tr>\n",
       "    <tr>\n",
       "      <th>1</th>\n",
       "      <td>r61</td>\n",
       "      <td>c1</td>\n",
       "      <td>3</td>\n",
       "    </tr>\n",
       "    <tr>\n",
       "      <th>2</th>\n",
       "      <td>r67</td>\n",
       "      <td>c1</td>\n",
       "      <td>4</td>\n",
       "    </tr>\n",
       "    <tr>\n",
       "      <th>3</th>\n",
       "      <td>r72</td>\n",
       "      <td>c1</td>\n",
       "      <td>3</td>\n",
       "    </tr>\n",
       "    <tr>\n",
       "      <th>4</th>\n",
       "      <td>r86</td>\n",
       "      <td>c1</td>\n",
       "      <td>5</td>\n",
       "    </tr>\n",
       "  </tbody>\n",
       "</table>\n",
       "</div>"
      ],
      "text/plain": [
       "  user movie  rating\n",
       "0  r44    c1       4\n",
       "1  r61    c1       3\n",
       "2  r67    c1       4\n",
       "3  r72    c1       3\n",
       "4  r86    c1       5"
      ]
     },
     "execution_count": 8,
     "metadata": {},
     "output_type": "execute_result"
    }
   ],
   "source": [
    "data = load_data(\"data/data_train.csv\")\n",
    "data.head()"
   ]
  },
  {
   "cell_type": "code",
   "execution_count": 9,
   "metadata": {},
   "outputs": [],
   "source": [
    "dataset = Dataset.load_from_df(data[['user', 'movie', 'rating']], Reader(rating_scale=(1, 5)))"
   ]
  },
  {
   "cell_type": "markdown",
   "metadata": {},
   "source": [
    "### 1) Algorithm training \n",
    "SVD, SlopeOne, ALS, Global Mean, User Mean, Item Mean (using  previously determined optimal hyperparameters)"
   ]
  },
  {
   "cell_type": "code",
   "execution_count": 12,
   "metadata": {},
   "outputs": [
    {
     "name": "stdout",
     "output_type": "stream",
     "text": [
      "Evaluating RMSE, MAE of algorithm SVD on 5 split(s).\n",
      "\n",
      "                  Fold 1  Fold 2  Fold 3  Fold 4  Fold 5  Mean    Std     \n",
      "RMSE (testset)    0.9846  0.9868  0.9859  0.9868  0.9867  0.9861  0.0009  \n",
      "MAE (testset)     0.7962  0.7982  0.7970  0.7973  0.7964  0.7970  0.0007  \n",
      "Fit time          673.35  672.81  673.66  672.68  673.00  673.10  0.36    \n",
      "Test time         1.93    2.37    1.58    1.78    1.58    1.85    0.29    \n"
     ]
    },
    {
     "data": {
      "text/plain": [
       "{'test_rmse': array([0.98455924, 0.98680344, 0.9859004 , 0.98677196, 0.98671393]),\n",
       " 'test_mae': array([0.79617814, 0.79816936, 0.79701419, 0.79726757, 0.79638003]),\n",
       " 'fit_time': (673.3452351093292,\n",
       "  672.8140428066254,\n",
       "  673.6615543365479,\n",
       "  672.6764585971832,\n",
       "  673.0009026527405),\n",
       " 'test_time': (1.9310946464538574,\n",
       "  2.3683676719665527,\n",
       "  1.5777547359466553,\n",
       "  1.784980297088623,\n",
       "  1.577728509902954)}"
      ]
     },
     "execution_count": 12,
     "metadata": {},
     "output_type": "execute_result"
    }
   ],
   "source": [
    "svd = SVD(n_epochs=150, n_factors=200, lr_all=0.0022, reg_all=0.089)\n",
    "cross_validate(svd, dataset, measures=['RMSE','MAE'], n_jobs=-1, cv=5, verbose=True)"
   ]
  },
  {
   "cell_type": "code",
   "execution_count": 13,
   "metadata": {},
   "outputs": [
    {
     "name": "stdout",
     "output_type": "stream",
     "text": [
      "Evaluating RMSE, MAE of algorithm SlopeOne on 5 split(s).\n",
      "\n",
      "                  Fold 1  Fold 2  Fold 3  Fold 4  Fold 5  Mean    Std     \n",
      "RMSE (testset)    0.9994  1.0013  1.0010  0.9991  0.9999  1.0002  0.0009  \n",
      "MAE (testset)     0.8008  0.8023  0.8024  0.8015  0.8012  0.8016  0.0006  \n",
      "Fit time          3.74    4.33    3.91    3.92    3.65    3.91    0.23    \n",
      "Test time         19.38   18.82   18.21   18.09   17.62   18.43   0.61    \n"
     ]
    },
    {
     "data": {
      "text/plain": [
       "{'test_rmse': array([0.99940281, 1.00134054, 1.00100941, 0.99914973, 0.99991321]),\n",
       " 'test_mae': array([0.80081763, 0.80232067, 0.80235541, 0.80148366, 0.80117781]),\n",
       " 'fit_time': (3.7386245727539062,\n",
       "  4.325348615646362,\n",
       "  3.9135308265686035,\n",
       "  3.9225046634674072,\n",
       "  3.653078317642212),\n",
       " 'test_time': (19.381893396377563,\n",
       "  18.82383441925049,\n",
       "  18.20857882499695,\n",
       "  18.091482162475586,\n",
       "  17.621175050735474)}"
      ]
     },
     "execution_count": 13,
     "metadata": {},
     "output_type": "execute_result"
    }
   ],
   "source": [
    "slopeone = SlopeOne()\n",
    "cross_validate(slopeone, dataset, measures=['RMSE','MAE'], n_jobs=-1, cv=5, verbose=True)"
   ]
  },
  {
   "cell_type": "code",
   "execution_count": 10,
   "metadata": {},
   "outputs": [
    {
     "name": "stdout",
     "output_type": "stream",
     "text": [
      "Evaluating RMSE, MAE of algorithm ALS on 5 split(s).\n",
      "\n",
      "                  Fold 1  Fold 2  Fold 3  Fold 4  Fold 5  Mean    Std     \n",
      "RMSE (testset)    0.9876  0.9890  0.9906  0.9860  0.9875  0.9881  0.0016  \n",
      "MAE (testset)     0.7995  0.7997  0.8015  0.7986  0.7996  0.7998  0.0009  \n",
      "Fit time          488.41  499.62  493.65  492.09  491.10  492.97  3.74    \n",
      "Test time         1.85    1.49    1.71    1.58    1.36    1.60    0.17    \n"
     ]
    },
    {
     "data": {
      "text/plain": [
       "{'test_rmse': array([0.98761124, 0.98899994, 0.99058872, 0.98598093, 0.98754004]),\n",
       " 'test_mae': array([0.79949096, 0.79971933, 0.80148381, 0.7986493 , 0.79963328]),\n",
       " 'fit_time': (488.41313099861145,\n",
       "  499.62242126464844,\n",
       "  493.64608335494995,\n",
       "  492.08727073669434,\n",
       "  491.0969252586365),\n",
       " 'test_time': (1.8542604446411133,\n",
       "  1.4944062232971191,\n",
       "  1.7142140865325928,\n",
       "  1.5789639949798584,\n",
       "  1.3577642440795898)}"
      ]
     },
     "execution_count": 10,
     "metadata": {},
     "output_type": "execute_result"
    }
   ],
   "source": [
    "als = ALS(n_epochs=25, num_features=8, lambda_all=0.081)\n",
    "cross_validate(als, dataset, measures=['RMSE','MAE'], n_jobs=-1, cv=5, verbose=True)"
   ]
  },
  {
   "cell_type": "code",
   "execution_count": 58,
   "metadata": {},
   "outputs": [
    {
     "name": "stdout",
     "output_type": "stream",
     "text": [
      "Evaluating RMSE, MAE of algorithm GlobalMean on 5 split(s).\n",
      "\n",
      "                  Fold 1  Fold 2  Fold 3  Fold 4  Fold 5  Mean    Std     \n",
      "RMSE (testset)    1.1195  1.1211  1.1190  1.1174  1.1182  1.1191  0.0013  \n",
      "MAE (testset)     0.9243  0.9248  0.9242  0.9230  0.9231  0.9239  0.0007  \n",
      "Fit time          0.54    0.49    0.45    0.43    0.46    0.47    0.04    \n",
      "Test time         0.80    0.83    0.77    0.77    0.77    0.79    0.03    \n"
     ]
    },
    {
     "data": {
      "text/plain": [
       "{'test_rmse': array([1.1195021 , 1.12113898, 1.11904808, 1.11741071, 1.11818666]),\n",
       " 'test_mae': array([0.92433914, 0.92484209, 0.92423881, 0.92298069, 0.92311968]),\n",
       " 'fit_time': (0.5391535758972168,\n",
       "  0.49216151237487793,\n",
       "  0.44966816902160645,\n",
       "  0.42621493339538574,\n",
       "  0.4593017101287842),\n",
       " 'test_time': (0.8037514686584473,\n",
       "  0.8342499732971191,\n",
       "  0.7688169479370117,\n",
       "  0.7687547206878662,\n",
       "  0.7733895778656006)}"
      ]
     },
     "execution_count": 58,
     "metadata": {},
     "output_type": "execute_result"
    }
   ],
   "source": [
    "globm = GlobalMean()\n",
    "cross_validate(globm, dataset, measures=['RMSE','MAE'], n_jobs=-1, cv=5, verbose=True)"
   ]
  },
  {
   "cell_type": "code",
   "execution_count": 59,
   "metadata": {},
   "outputs": [
    {
     "name": "stdout",
     "output_type": "stream",
     "text": [
      "Evaluating RMSE, MAE of algorithm UserMean on 5 split(s).\n",
      "\n",
      "                  Fold 1  Fold 2  Fold 3  Fold 4  Fold 5  Mean    Std     \n",
      "RMSE (testset)    1.0961  1.0991  1.0987  1.0976  1.0941  1.0971  0.0018  \n",
      "MAE (testset)     0.8987  0.9011  0.9013  0.8999  0.8964  0.8995  0.0018  \n",
      "Fit time          0.43    0.44    0.51    0.45    0.41    0.45    0.03    \n",
      "Test time         0.93    0.92    0.93    0.94    0.88    0.92    0.02    \n"
     ]
    },
    {
     "data": {
      "text/plain": [
       "{'test_rmse': array([1.09611069, 1.09908115, 1.09871987, 1.09758279, 1.09406622]),\n",
       " 'test_mae': array([0.89871014, 0.9010859 , 0.90130303, 0.89994507, 0.89642586]),\n",
       " 'fit_time': (0.4304769039154053,\n",
       "  0.43912339210510254,\n",
       "  0.5072202682495117,\n",
       "  0.4516615867614746,\n",
       "  0.41385769844055176),\n",
       " 'test_time': (0.9287745952606201,\n",
       "  0.9233212471008301,\n",
       "  0.9323551654815674,\n",
       "  0.9352209568023682,\n",
       "  0.8818142414093018)}"
      ]
     },
     "execution_count": 59,
     "metadata": {},
     "output_type": "execute_result"
    }
   ],
   "source": [
    "userm = UserMean()\n",
    "cross_validate(userm, dataset, measures=['RMSE','MAE'], n_jobs=-1, cv=5, verbose=True)"
   ]
  },
  {
   "cell_type": "code",
   "execution_count": 60,
   "metadata": {},
   "outputs": [
    {
     "name": "stdout",
     "output_type": "stream",
     "text": [
      "Evaluating RMSE, MAE of algorithm ItemMean on 5 split(s).\n",
      "\n",
      "                  Fold 1  Fold 2  Fold 3  Fold 4  Fold 5  Mean    Std     \n",
      "RMSE (testset)    1.0317  1.0326  1.0285  1.0323  1.0294  1.0309  0.0016  \n",
      "MAE (testset)     0.8404  0.8433  0.8376  0.8426  0.8394  0.8407  0.0021  \n",
      "Fit time          0.45    0.46    0.42    0.43    0.43    0.44    0.02    \n",
      "Test time         0.90    0.94    0.89    0.91    0.87    0.90    0.02    \n"
     ]
    },
    {
     "data": {
      "text/plain": [
       "{'test_rmse': array([1.03169126, 1.03259603, 1.02847242, 1.03228239, 1.02940925]),\n",
       " 'test_mae': array([0.84044004, 0.84328318, 0.8375915 , 0.84261011, 0.83935777]),\n",
       " 'fit_time': (0.44620418548583984,\n",
       "  0.46356630325317383,\n",
       "  0.4184904098510742,\n",
       "  0.4346354007720947,\n",
       "  0.4297621250152588),\n",
       " 'test_time': (0.8955442905426025,\n",
       "  0.9372358322143555,\n",
       "  0.8934834003448486,\n",
       "  0.9112443923950195,\n",
       "  0.8741164207458496)}"
      ]
     },
     "execution_count": 60,
     "metadata": {},
     "output_type": "execute_result"
    }
   ],
   "source": [
    "itemm = ItemMean()\n",
    "cross_validate(itemm, dataset, measures=['RMSE','MAE'], n_jobs=-1, cv=5, verbose=True)"
   ]
  },
  {
   "cell_type": "code",
   "execution_count": 26,
   "metadata": {},
   "outputs": [
    {
     "data": {
      "text/plain": [
       "<surprise.prediction_algorithms.matrix_factorization.SVD at 0x265698f7828>"
      ]
     },
     "execution_count": 26,
     "metadata": {},
     "output_type": "execute_result"
    }
   ],
   "source": [
    "svd.fit(dataset.build_full_trainset())"
   ]
  },
  {
   "cell_type": "code",
   "execution_count": 27,
   "metadata": {},
   "outputs": [
    {
     "data": {
      "text/plain": [
       "<surprise.prediction_algorithms.slope_one.SlopeOne at 0x265698f7c18>"
      ]
     },
     "execution_count": 27,
     "metadata": {},
     "output_type": "execute_result"
    }
   ],
   "source": [
    "slopeone.fit(dataset.build_full_trainset())"
   ]
  },
  {
   "cell_type": "code",
   "execution_count": 28,
   "metadata": {},
   "outputs": [
    {
     "name": "stdout",
     "output_type": "stream",
     "text": [
      "number of items in preprocess_trainset_data: 1000, number of users: 10000\n",
      "\n",
      "start the ALS algorithm...\n",
      "RMSE on training set: 1.0279557692829417.\n",
      "RMSE on training set: 1.002643700880776.\n",
      "RMSE on training set: 0.984104400950518.\n",
      "RMSE on training set: 0.9725554764695716.\n",
      "RMSE on training set: 0.9649053241359405.\n",
      "RMSE on training set: 0.9593962705374679.\n",
      "RMSE on training set: 0.9554039026823504.\n",
      "RMSE on training set: 0.952536228342509.\n",
      "RMSE on training set: 0.9504453053662352.\n",
      "RMSE on training set: 0.948866722777238.\n",
      "RMSE on training set: 0.9476306025435011.\n",
      "RMSE on training set: 0.946633145835352.\n",
      "RMSE on training set: 0.9458099253295328.\n",
      "RMSE on training set: 0.945119423907407.\n",
      "RMSE on training set: 0.9445336891663806.\n",
      "RMSE on training set: 0.9440329854033788.\n",
      "RMSE on training set: 0.9436026810899607.\n",
      "RMSE on training set: 0.9432314284306135.\n",
      "RMSE on training set: 0.9429101013482459.\n",
      "RMSE on training set: 0.9426311748098132.\n",
      "RMSE on training set: 0.9423883539770682.\n",
      "RMSE on training set: 0.9421763384654472.\n",
      "RMSE on training set: 0.9419906562109359.\n",
      "RMSE on training set: 0.9418275335052958.\n",
      "RMSE on training set: 0.9416837865957678.\n"
     ]
    },
    {
     "data": {
      "text/plain": [
       "<ALS_implementation.ALS at 0x2653d215860>"
      ]
     },
     "execution_count": 28,
     "metadata": {},
     "output_type": "execute_result"
    }
   ],
   "source": [
    "als.fit(dataset.build_full_trainset())"
   ]
  },
  {
   "cell_type": "code",
   "execution_count": 61,
   "metadata": {},
   "outputs": [
    {
     "name": "stdout",
     "output_type": "stream",
     "text": [
      "Estimating biases using als...\n"
     ]
    },
    {
     "data": {
      "text/plain": [
       "<GlobalMean.GlobalMean at 0x2658bad02e8>"
      ]
     },
     "execution_count": 61,
     "metadata": {},
     "output_type": "execute_result"
    }
   ],
   "source": [
    "globm.fit(dataset.build_full_trainset())"
   ]
  },
  {
   "cell_type": "code",
   "execution_count": 62,
   "metadata": {},
   "outputs": [
    {
     "name": "stdout",
     "output_type": "stream",
     "text": [
      "Estimating biases using als...\n"
     ]
    },
    {
     "data": {
      "text/plain": [
       "<UserMean.UserMean at 0x2658bad0b70>"
      ]
     },
     "execution_count": 62,
     "metadata": {},
     "output_type": "execute_result"
    }
   ],
   "source": [
    "userm.fit(dataset.build_full_trainset())"
   ]
  },
  {
   "cell_type": "code",
   "execution_count": 63,
   "metadata": {},
   "outputs": [
    {
     "name": "stdout",
     "output_type": "stream",
     "text": [
      "Estimating biases using als...\n"
     ]
    },
    {
     "data": {
      "text/plain": [
       "<ItemMean.ItemMean at 0x265dd7249b0>"
      ]
     },
     "execution_count": 63,
     "metadata": {},
     "output_type": "execute_result"
    }
   ],
   "source": [
    "itemm.fit(dataset.build_full_trainset())"
   ]
  },
  {
   "cell_type": "markdown",
   "metadata": {},
   "source": [
    "### 2) Blending weights determination"
   ]
  },
  {
   "cell_type": "code",
   "execution_count": 64,
   "metadata": {},
   "outputs": [],
   "source": [
    "matrix['itemm'] = [itemm.predict(user, movie).est for [user, movie] in matrix['Id'].str.split('_')]"
   ]
  },
  {
   "cell_type": "code",
   "execution_count": 65,
   "metadata": {
    "scrolled": true
   },
   "outputs": [],
   "source": [
    "matrix =  pd.read_csv(\"data/data_train.csv\")\n",
    "matrix['svd'] = [svd.predict(user, movie).est for [user, movie] in matrix['Id'].str.split('_')]\n",
    "matrix['slopeone'] = [slopeone.predict(user, movie).est for [user, movie] in matrix['Id'].str.split('_')]\n",
    "matrix['als'] = [als.predict(user, movie).est for [user, movie] in matrix['Id'].str.split('_')]\n",
    "matrix['globm'] = [globm.predict(user, movie).est for [user, movie] in matrix['Id'].str.split('_')]\n",
    "matrix['userm'] = [userm.predict(user, movie).est for [user, movie] in matrix['Id'].str.split('_')]\n",
    "matrix['itemm'] = [itemm.predict(user, movie).est for [user, movie] in matrix['Id'].str.split('_')]"
   ]
  },
  {
   "cell_type": "code",
   "execution_count": 69,
   "metadata": {},
   "outputs": [
    {
     "data": {
      "text/html": [
       "<div>\n",
       "<style scoped>\n",
       "    .dataframe tbody tr th:only-of-type {\n",
       "        vertical-align: middle;\n",
       "    }\n",
       "\n",
       "    .dataframe tbody tr th {\n",
       "        vertical-align: top;\n",
       "    }\n",
       "\n",
       "    .dataframe thead th {\n",
       "        text-align: right;\n",
       "    }\n",
       "</style>\n",
       "<table border=\"1\" class=\"dataframe\">\n",
       "  <thead>\n",
       "    <tr style=\"text-align: right;\">\n",
       "      <th></th>\n",
       "      <th>Id</th>\n",
       "      <th>Prediction</th>\n",
       "      <th>svd</th>\n",
       "      <th>slopeone</th>\n",
       "      <th>als</th>\n",
       "      <th>globm</th>\n",
       "      <th>userm</th>\n",
       "      <th>itemm</th>\n",
       "    </tr>\n",
       "  </thead>\n",
       "  <tbody>\n",
       "    <tr>\n",
       "      <th>0</th>\n",
       "      <td>r44_c1</td>\n",
       "      <td>4</td>\n",
       "      <td>3.666422</td>\n",
       "      <td>3.467975</td>\n",
       "      <td>3.545862</td>\n",
       "      <td>3.857281</td>\n",
       "      <td>4.050770</td>\n",
       "      <td>3.271266</td>\n",
       "    </tr>\n",
       "    <tr>\n",
       "      <th>1</th>\n",
       "      <td>r61_c1</td>\n",
       "      <td>3</td>\n",
       "      <td>3.726452</td>\n",
       "      <td>3.705533</td>\n",
       "      <td>3.552850</td>\n",
       "      <td>3.857281</td>\n",
       "      <td>4.295720</td>\n",
       "      <td>3.271266</td>\n",
       "    </tr>\n",
       "    <tr>\n",
       "      <th>2</th>\n",
       "      <td>r67_c1</td>\n",
       "      <td>4</td>\n",
       "      <td>3.178850</td>\n",
       "      <td>2.867879</td>\n",
       "      <td>2.976897</td>\n",
       "      <td>3.857281</td>\n",
       "      <td>3.565532</td>\n",
       "      <td>3.271266</td>\n",
       "    </tr>\n",
       "    <tr>\n",
       "      <th>3</th>\n",
       "      <td>r72_c1</td>\n",
       "      <td>3</td>\n",
       "      <td>3.400340</td>\n",
       "      <td>3.359007</td>\n",
       "      <td>3.383558</td>\n",
       "      <td>3.857281</td>\n",
       "      <td>3.948417</td>\n",
       "      <td>3.271266</td>\n",
       "    </tr>\n",
       "    <tr>\n",
       "      <th>4</th>\n",
       "      <td>r86_c1</td>\n",
       "      <td>5</td>\n",
       "      <td>3.585575</td>\n",
       "      <td>3.606788</td>\n",
       "      <td>3.436813</td>\n",
       "      <td>3.857281</td>\n",
       "      <td>4.188232</td>\n",
       "      <td>3.271266</td>\n",
       "    </tr>\n",
       "  </tbody>\n",
       "</table>\n",
       "</div>"
      ],
      "text/plain": [
       "       Id  Prediction       svd  slopeone       als     globm     userm  \\\n",
       "0  r44_c1           4  3.666422  3.467975  3.545862  3.857281  4.050770   \n",
       "1  r61_c1           3  3.726452  3.705533  3.552850  3.857281  4.295720   \n",
       "2  r67_c1           4  3.178850  2.867879  2.976897  3.857281  3.565532   \n",
       "3  r72_c1           3  3.400340  3.359007  3.383558  3.857281  3.948417   \n",
       "4  r86_c1           5  3.585575  3.606788  3.436813  3.857281  4.188232   \n",
       "\n",
       "      itemm  \n",
       "0  3.271266  \n",
       "1  3.271266  \n",
       "2  3.271266  \n",
       "3  3.271266  \n",
       "4  3.271266  "
      ]
     },
     "execution_count": 69,
     "metadata": {},
     "output_type": "execute_result"
    }
   ],
   "source": [
    "matrix.head()"
   ]
  },
  {
   "cell_type": "code",
   "execution_count": 70,
   "metadata": {},
   "outputs": [
    {
     "data": {
      "text/plain": [
       "(1176952,)"
      ]
     },
     "execution_count": 70,
     "metadata": {},
     "output_type": "execute_result"
    }
   ],
   "source": [
    "y = matrix['Prediction']\n",
    "y.head()\n",
    "y.shape"
   ]
  },
  {
   "cell_type": "code",
   "execution_count": 71,
   "metadata": {
    "scrolled": true
   },
   "outputs": [
    {
     "data": {
      "text/html": [
       "<div>\n",
       "<style scoped>\n",
       "    .dataframe tbody tr th:only-of-type {\n",
       "        vertical-align: middle;\n",
       "    }\n",
       "\n",
       "    .dataframe tbody tr th {\n",
       "        vertical-align: top;\n",
       "    }\n",
       "\n",
       "    .dataframe thead th {\n",
       "        text-align: right;\n",
       "    }\n",
       "</style>\n",
       "<table border=\"1\" class=\"dataframe\">\n",
       "  <thead>\n",
       "    <tr style=\"text-align: right;\">\n",
       "      <th></th>\n",
       "      <th>svd</th>\n",
       "      <th>slopeone</th>\n",
       "      <th>als</th>\n",
       "      <th>globm</th>\n",
       "      <th>userm</th>\n",
       "      <th>itemm</th>\n",
       "    </tr>\n",
       "  </thead>\n",
       "  <tbody>\n",
       "    <tr>\n",
       "      <th>0</th>\n",
       "      <td>3.666422</td>\n",
       "      <td>3.467975</td>\n",
       "      <td>3.545862</td>\n",
       "      <td>3.857281</td>\n",
       "      <td>4.050770</td>\n",
       "      <td>3.271266</td>\n",
       "    </tr>\n",
       "    <tr>\n",
       "      <th>1</th>\n",
       "      <td>3.726452</td>\n",
       "      <td>3.705533</td>\n",
       "      <td>3.552850</td>\n",
       "      <td>3.857281</td>\n",
       "      <td>4.295720</td>\n",
       "      <td>3.271266</td>\n",
       "    </tr>\n",
       "    <tr>\n",
       "      <th>2</th>\n",
       "      <td>3.178850</td>\n",
       "      <td>2.867879</td>\n",
       "      <td>2.976897</td>\n",
       "      <td>3.857281</td>\n",
       "      <td>3.565532</td>\n",
       "      <td>3.271266</td>\n",
       "    </tr>\n",
       "    <tr>\n",
       "      <th>3</th>\n",
       "      <td>3.400340</td>\n",
       "      <td>3.359007</td>\n",
       "      <td>3.383558</td>\n",
       "      <td>3.857281</td>\n",
       "      <td>3.948417</td>\n",
       "      <td>3.271266</td>\n",
       "    </tr>\n",
       "    <tr>\n",
       "      <th>4</th>\n",
       "      <td>3.585575</td>\n",
       "      <td>3.606788</td>\n",
       "      <td>3.436813</td>\n",
       "      <td>3.857281</td>\n",
       "      <td>4.188232</td>\n",
       "      <td>3.271266</td>\n",
       "    </tr>\n",
       "  </tbody>\n",
       "</table>\n",
       "</div>"
      ],
      "text/plain": [
       "        svd  slopeone       als     globm     userm     itemm\n",
       "0  3.666422  3.467975  3.545862  3.857281  4.050770  3.271266\n",
       "1  3.726452  3.705533  3.552850  3.857281  4.295720  3.271266\n",
       "2  3.178850  2.867879  2.976897  3.857281  3.565532  3.271266\n",
       "3  3.400340  3.359007  3.383558  3.857281  3.948417  3.271266\n",
       "4  3.585575  3.606788  3.436813  3.857281  4.188232  3.271266"
      ]
     },
     "execution_count": 71,
     "metadata": {},
     "output_type": "execute_result"
    }
   ],
   "source": [
    "#x = matrix[['svd', 'slopeone', 'als']]\n",
    "x = matrix[['svd', 'slopeone', 'als', 'globm', 'userm', 'itemm']]\n",
    "x.head()"
   ]
  },
  {
   "cell_type": "code",
   "execution_count": 72,
   "metadata": {},
   "outputs": [
    {
     "name": "stdout",
     "output_type": "stream",
     "text": [
      "svd         5.383998\n",
      "slopeone    2.216146\n",
      "als        -1.891828\n",
      "globm       4.467023\n",
      "userm      -4.829459\n",
      "itemm      -4.360333\n",
      "dtype: float64\n"
     ]
    }
   ],
   "source": [
    "from numpy.linalg import pinv\n",
    "G = x.T @ x\n",
    "G_inv = pd.DataFrame(np.linalg.pinv(G.values), G.columns, G.index)\n",
    "w = G_inv @ x.T @ y\n",
    "print(w)"
   ]
  },
  {
   "cell_type": "code",
   "execution_count": 87,
   "metadata": {},
   "outputs": [
    {
     "name": "stdout",
     "output_type": "stream",
     "text": [
      "1176952\n",
      "0.0007309883164354257\n"
     ]
    }
   ],
   "source": [
    "#RMSE\n",
    "print(y.shape[0])\n",
    "rmse = (1/(y.shape[0]))*np.sqrt(np.sum((y-x@w)**2))\n",
    "print(rmse)"
   ]
  },
  {
   "cell_type": "markdown",
   "metadata": {},
   "source": [
    "### 3) Blended Results Generation"
   ]
  },
  {
   "cell_type": "code",
   "execution_count": 73,
   "metadata": {},
   "outputs": [],
   "source": [
    "#gen_submission_multi(r'data/sub_multi_4.csv', [(svd, w[0]), (slopeone, w[1]), (als, w[2])])\n",
    "gen_submission_multi(r'data/sub_multi_5.csv', [(svd, w[0]), (slopeone, w[1]), (als, w[2]), (globm, w[3]), (userm, w[4]), (itemm, w[5])])"
   ]
  },
  {
   "cell_type": "code",
   "execution_count": 80,
   "metadata": {},
   "outputs": [],
   "source": [
    "gen_submission_multi_with_train(r'data/sub_multi_5_wt.csv', [(svd, w[0]), (slopeone, w[1]), (als, w[2]), (globm, w[3]), (userm, w[4]), (itemm, w[5])])"
   ]
  },
  {
   "cell_type": "code",
   "execution_count": null,
   "metadata": {},
   "outputs": [],
   "source": []
  }
 ],
 "metadata": {
  "kernelspec": {
   "display_name": "Python 3",
   "language": "python",
   "name": "python3"
  },
  "language_info": {
   "codemirror_mode": {
    "name": "ipython",
    "version": 3
   },
   "file_extension": ".py",
   "mimetype": "text/x-python",
   "name": "python",
   "nbconvert_exporter": "python",
   "pygments_lexer": "ipython3",
   "version": "3.7.3"
  }
 },
 "nbformat": 4,
 "nbformat_minor": 2
}
